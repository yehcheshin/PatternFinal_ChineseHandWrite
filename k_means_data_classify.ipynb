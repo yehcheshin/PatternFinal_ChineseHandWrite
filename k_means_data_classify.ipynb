{
 "cells": [
  {
   "cell_type": "code",
   "execution_count": 1,
   "metadata": {
    "collapsed": true
   },
   "outputs": [],
   "source": [
    "import os\n",
    "import numpy as np\n",
    "from PIL import Image\n",
    "from sklearn import metrics\n",
    "from sklearn import preprocessing\n",
    "from sklearn.model_selection import train_test_split\n",
    "from sklearn.model_selection import GridSearchCV\n",
    "import matplotlib.pyplot as plt\n",
    "import torchvision.transforms as transforms\n",
    "%matplotlib inline"
   ]
  },
  {
   "cell_type": "code",
   "execution_count": 2,
   "outputs": [],
   "source": [
    "root = './k_mean_data/'"
   ],
   "metadata": {
    "collapsed": false,
    "pycharm": {
     "name": "#%%\n"
    }
   }
  },
  {
   "cell_type": "markdown",
   "source": [
    "# Image Denoise"
   ],
   "metadata": {
    "collapsed": false
   }
  },
  {
   "cell_type": "code",
   "execution_count": 3,
   "outputs": [],
   "source": [
    "def get_bin_table(threshold=128):\n",
    "    table = []\n",
    "    for i in range(256):\n",
    "        if i < threshold:\n",
    "            table.append(0)\n",
    "        else:\n",
    "            table.append(1)\n",
    "    return table\n",
    "\n",
    "def remove_noise_pixel(img, noise_point_list):\n",
    "    for item in noise_point_list:\n",
    "        img.putpixel((item[0], item[1]), 1)\n",
    "\n",
    "def collect_noise_point(img):\n",
    "    noise_point_list = []\n",
    "    for x in range(img.width):\n",
    "        for y in range(img.height):\n",
    "            res_9 = sum_9_region_new(img, x, y)\n",
    "            if (0 < res_9 < 3) and img.getpixel((x, y)) == 0:\n",
    "                pos = (x, y)\n",
    "                noise_point_list.append(pos)\n",
    "    return noise_point_list\n",
    "\n",
    "def sum_9_region_new(img, x, y):\n",
    "    cur_pixel = img.getpixel((x, y))\n",
    "    width = img.width\n",
    "    height = img.height\n",
    "    if cur_pixel == 1:\n",
    "        return 0\n",
    "    if y < 3:\n",
    "        return 1\n",
    "    elif y > height - 3:\n",
    "        return 1\n",
    "    else:\n",
    "        if x < 3:\n",
    "            return 1\n",
    "        elif x == width - 1:\n",
    "            return 1\n",
    "        else:\n",
    "            sum = img.getpixel((x - 1, y - 1)) \\\n",
    "                  + img.getpixel((x - 1, y)) \\\n",
    "                  + img.getpixel((x - 1, y + 1)) \\\n",
    "                  + img.getpixel((x, y - 1)) \\\n",
    "                  + cur_pixel \\\n",
    "                  + img.getpixel((x, y + 1)) \\\n",
    "                  + img.getpixel((x + 1, y - 1)) \\\n",
    "                  + img.getpixel((x + 1, y)) \\\n",
    "                  + img.getpixel((x + 1, y + 1))\n",
    "            return 9 - sum\n"
   ],
   "metadata": {
    "collapsed": false,
    "pycharm": {
     "name": "#%%\n"
    }
   }
  },
  {
   "cell_type": "code",
   "execution_count": 4,
   "outputs": [],
   "source": [
    "def plot_confusion_matrix(cm, names, title='Confusion matrix', cmap=plt.cm.Blues):\n",
    "    plt.imshow(cm, interpolation='nearest', cmap=cmap)\n",
    "    plt.title(title)\n",
    "    plt.colorbar()\n",
    "    tick_marks = np.arange(len(names))\n",
    "    plt.xticks(tick_marks, names, rotation=90)\n",
    "    plt.yticks(tick_marks, names)\n",
    "    plt.tight_layout()\n",
    "    plt.ylabel('True label')\n",
    "    plt.xlabel('Predicted label')"
   ],
   "metadata": {
    "collapsed": false,
    "pycharm": {
     "name": "#%%\n"
    }
   }
  },
  {
   "cell_type": "markdown",
   "source": [
    "# Get label"
   ],
   "metadata": {
    "collapsed": false,
    "pycharm": {
     "name": "#%% md\n"
    }
   }
  },
  {
   "cell_type": "code",
   "execution_count": 5,
   "outputs": [],
   "source": [
    "label_list = {}\n",
    "\n",
    "f = open('training data dic.txt', 'r', encoding=\"utf-8\")\n",
    "for idx, line in enumerate(f.readlines()):\n",
    "    if idx == 50:\n",
    "        break\n",
    "    label_list[line[0]] = idx"
   ],
   "metadata": {
    "collapsed": false,
    "pycharm": {
     "name": "#%%\n"
    }
   }
  },
  {
   "cell_type": "markdown",
   "source": [
    "# Load data"
   ],
   "metadata": {
    "collapsed": false
   }
  },
  {
   "cell_type": "code",
   "execution_count": 8,
   "outputs": [
    {
     "data": {
      "text/plain": "<PIL.Image.Image image mode=L size=64x64 at 0x21A67CCA670>",
      "image/png": "[encoded data removed]"
     },
     "execution_count": 8,
     "metadata": {},
     "output_type": "execute_result"
    }
   ],
   "source": [
    "is_denoise = False\n",
    "transform = transforms.Compose([\n",
    "    transforms.RandomAffine(degrees=(-10, 10), translate=(0.1, 0.1), fill=255),\n",
    "    transforms.ColorJitter(brightness=(0.5, 1.5), contrast=(0.8, 1)),\n",
    "])\n",
    "is_augment = True\n",
    "data = []\n",
    "files = []\n",
    "labels = []\n",
    "binary = None\n",
    "for idx, dir_ in enumerate(os.listdir(root)):\n",
    "    for _, file in enumerate(os.listdir(root + '/' + dir_)):\n",
    "        img_path = root + dir_ + '/' + file\n",
    "        img = Image.open(img_path)\n",
    "        img = img.resize((64, 64))\n",
    "        if is_augment:\n",
    "            random_rotate = transforms.RandomRotation(degrees=(-10, 10), fill=255)\n",
    "            trans_img = random_rotate(img)\n",
    "            im = np.array(trans_img).reshape(-1)\n",
    "            data.append(im)\n",
    "            files.append(img_path)\n",
    "            labels.append(label_list[file[-5:-4]])\n",
    "\n",
    "            random_translate = transforms.RandomAffine(degrees=(0, 0), translate=(0.1, 0.1), fill=255)\n",
    "            trans_img = random_translate(img)\n",
    "            im = np.array(trans_img).reshape(-1)\n",
    "            data.append(im)\n",
    "            files.append(img_path)\n",
    "            labels.append(label_list[file[-5:-4]])\n",
    "\n",
    "            random_colorjitter = transforms.ColorJitter(brightness=(0.5, 1.5), contrast=(0.8, 1))\n",
    "            trans_img = random_colorjitter(img)\n",
    "            im = np.array(trans_img).reshape(-1)\n",
    "            data.append(im)\n",
    "            files.append(img_path)\n",
    "            labels.append(label_list[file[-5:-4]])\n",
    "\n",
    "            trans_img = transform(img)\n",
    "            im = np.array(trans_img).reshape(-1)\n",
    "            data.append(im)\n",
    "            files.append(img_path)\n",
    "            labels.append(label_list[file[-5:-4]])\n",
    "\n",
    "        im = np.array(img).reshape(-1)\n",
    "        if is_denoise:\n",
    "            table = get_bin_table(np.mean(im))\n",
    "            binary = img.point(table, '1')\n",
    "            noise_point_list = collect_noise_point(binary)\n",
    "            remove_noise_pixel(binary, noise_point_list)\n",
    "            im = np.array(binary).reshape(-1)\n",
    "        data.append(im)\n",
    "        files.append(img_path)\n",
    "        labels.append(label_list[file[-5:-4]])\n",
    "data = np.array(data)\n",
    "img"
   ],
   "metadata": {
    "collapsed": false,
    "pycharm": {
     "name": "#%%\n"
    }
   }
  },
  {
   "cell_type": "code",
   "execution_count": 9,
   "outputs": [
    {
     "name": "stdout",
     "output_type": "stream",
     "text": [
      "(14405, 4096)\n"
     ]
    },
    {
     "data": {
      "text/plain": "14405"
     },
     "execution_count": 9,
     "metadata": {},
     "output_type": "execute_result"
    }
   ],
   "source": [
    "print(data.shape)\n",
    "len(labels)"
   ],
   "metadata": {
    "collapsed": false,
    "pycharm": {
     "name": "#%%\n"
    }
   }
  },
  {
   "cell_type": "markdown",
   "source": [
    "# Normalize data"
   ],
   "metadata": {
    "collapsed": false,
    "pycharm": {
     "name": "#%% md\n"
    }
   }
  },
  {
   "cell_type": "code",
   "execution_count": 10,
   "outputs": [
    {
     "name": "stdout",
     "output_type": "stream",
     "text": [
      "[0.01753982 0.01753982 0.01753982 ... 0.01753982 0.01753982 0.01753982]\n"
     ]
    }
   ],
   "source": [
    "nor_data = preprocessing.normalize(data)\n",
    "print(nor_data[0])"
   ],
   "metadata": {
    "collapsed": false,
    "pycharm": {
     "name": "#%%\n"
    }
   }
  },
  {
   "cell_type": "markdown",
   "source": [
    "# Dimension reduce with PCA\n"
   ],
   "metadata": {
    "collapsed": false
   }
  },
  {
   "cell_type": "code",
   "execution_count": 12,
   "outputs": [
    {
     "ename": "AttributeError",
     "evalue": "'numpy.ndarray' object has no attribute 'shpae'",
     "output_type": "error",
     "traceback": [
      "\u001B[1;31m---------------------------------------------------------------------------\u001B[0m",
      "\u001B[1;31mAttributeError\u001B[0m                            Traceback (most recent call last)",
      "\u001B[1;32m<ipython-input-12-18c87f16783f>\u001B[0m in \u001B[0;36m<module>\u001B[1;34m\u001B[0m\n\u001B[0;32m      5\u001B[0m     \u001B[0mpca\u001B[0m\u001B[1;33m.\u001B[0m\u001B[0mfit\u001B[0m\u001B[1;33m(\u001B[0m\u001B[0mnor_data\u001B[0m\u001B[1;33m)\u001B[0m\u001B[1;33m\u001B[0m\u001B[1;33m\u001B[0m\u001B[0m\n\u001B[0;32m      6\u001B[0m     \u001B[0mnor_data\u001B[0m \u001B[1;33m=\u001B[0m \u001B[0mpca\u001B[0m\u001B[1;33m.\u001B[0m\u001B[0mtransform\u001B[0m\u001B[1;33m(\u001B[0m\u001B[0mnor_data\u001B[0m\u001B[1;33m)\u001B[0m\u001B[1;33m\u001B[0m\u001B[1;33m\u001B[0m\u001B[0m\n\u001B[1;32m----> 7\u001B[1;33m     \u001B[0mprint\u001B[0m\u001B[1;33m(\u001B[0m\u001B[0mnor_data\u001B[0m\u001B[1;33m.\u001B[0m\u001B[0mshpae\u001B[0m\u001B[1;33m)\u001B[0m\u001B[1;33m\u001B[0m\u001B[1;33m\u001B[0m\u001B[0m\n\u001B[0m\u001B[0;32m      8\u001B[0m \u001B[1;33m\u001B[0m\u001B[0m\n",
      "\u001B[1;31mAttributeError\u001B[0m: 'numpy.ndarray' object has no attribute 'shpae'"
     ]
    }
   ],
   "source": [
    "from sklearn.decomposition import PCA\n",
    "is_reduce_dim = True\n",
    "if is_reduce_dim:\n",
    "    pca = PCA(n_components=0.8, random_state=0)\n",
    "    pca.fit(nor_data)\n",
    "    nor_data = pca.transform(nor_data)\n",
    "    print(nor_data.shape)"
   ],
   "metadata": {
    "collapsed": false,
    "pycharm": {
     "name": "#%%\n"
    }
   }
  },
  {
   "cell_type": "markdown",
   "source": [
    "# Split training set and validation set"
   ],
   "metadata": {
    "collapsed": false
   }
  },
  {
   "cell_type": "code",
   "execution_count": 13,
   "outputs": [
    {
     "name": "stdout",
     "output_type": "stream",
     "text": [
      "(11524, 192)\n",
      "(2881, 192)\n",
      "11524\n",
      "2881\n"
     ]
    }
   ],
   "source": [
    "X_train, X_val, y_train, y_val = train_test_split(nor_data, labels, test_size=0.2, random_state=0)\n",
    "print(X_train.shape)\n",
    "print(X_val.shape)\n",
    "print(len(y_train))\n",
    "print(len(y_val))"
   ],
   "metadata": {
    "collapsed": false,
    "pycharm": {
     "name": "#%%\n"
    }
   }
  },
  {
   "cell_type": "markdown",
   "source": [
    "# K-nearest neighbors Classifier"
   ],
   "metadata": {
    "collapsed": false,
    "pycharm": {
     "name": "#%% md\n"
    }
   }
  },
  {
   "cell_type": "code",
   "execution_count": null,
   "outputs": [
    {
     "name": "stdout",
     "output_type": "stream",
     "text": [
      "Evaluation: 1 n_neighbor\n",
      "F1 score: 0.6942265298100196\n",
      "Accuracy score: 0.6910794862894828\n"
     ]
    },
    {
     "name": "stderr",
     "output_type": "stream",
     "text": [
      "c:\\users\\zxcz1\\appdata\\local\\programs\\python\\python38\\lib\\site-packages\\sklearn\\metrics\\_classification.py:1221: UndefinedMetricWarning: Precision and F-score are ill-defined and being set to 0.0 in labels with no predicted samples. Use `zero_division` parameter to control this behavior.\n",
      "  _warn_prf(average, modifier, msg_start, len(result))\n",
      "c:\\users\\zxcz1\\appdata\\local\\programs\\python\\python38\\lib\\site-packages\\sklearn\\metrics\\_classification.py:1221: UndefinedMetricWarning: Recall and F-score are ill-defined and being set to 0.0 in labels with no true samples. Use `zero_division` parameter to control this behavior.\n",
      "  _warn_prf(average, modifier, msg_start, len(result))\n"
     ]
    },
    {
     "name": "stdout",
     "output_type": "stream",
     "text": [
      "              precision    recall  f1-score   support\n",
      "\n",
      "           1       0.00      0.00      0.00         1\n",
      "           2       1.00      1.00      1.00         1\n",
      "           5       0.00      0.00      0.00         0\n",
      "          25       0.00      0.00      0.00         1\n",
      "          26       1.00      1.00      1.00         1\n",
      "          27       0.00      0.00      0.00         0\n",
      "          28       0.00      0.00      0.00         1\n",
      "          29       0.50      1.00      0.67         1\n",
      "          31       1.00      1.00      1.00         1\n",
      "          34       0.00      0.00      0.00         1\n",
      "          41       1.00      1.00      1.00         1\n",
      "          45       1.00      1.00      1.00         1\n",
      "          46       0.00      0.00      0.00         0\n",
      "\n",
      "    accuracy                           0.60        10\n",
      "   macro avg       0.42      0.46      0.44        10\n",
      "weighted avg       0.55      0.60      0.57        10\n",
      "\n",
      "Evaluation: 5 n_neighbor\n",
      "F1 score: 0.66674270019414\n",
      "Accuracy score: 0.6622700451232211\n",
      "              precision    recall  f1-score   support\n",
      "\n",
      "           1       0.00      0.00      0.00         1\n",
      "           2       1.00      1.00      1.00         1\n",
      "           5       0.00      0.00      0.00         0\n",
      "          16       0.00      0.00      0.00         0\n",
      "          19       0.00      0.00      0.00         0\n",
      "          25       1.00      1.00      1.00         1\n",
      "          26       1.00      1.00      1.00         1\n",
      "          27       0.00      0.00      0.00         0\n",
      "          28       0.00      0.00      0.00         1\n",
      "          29       1.00      1.00      1.00         1\n",
      "          31       0.00      0.00      0.00         1\n",
      "          34       0.00      0.00      0.00         1\n",
      "          41       0.00      0.00      0.00         1\n",
      "          45       1.00      1.00      1.00         1\n",
      "          46       0.00      0.00      0.00         0\n",
      "\n",
      "    accuracy                           0.50        10\n",
      "   macro avg       0.33      0.33      0.33        10\n",
      "weighted avg       0.50      0.50      0.50        10\n",
      "\n"
     ]
    },
    {
     "name": "stderr",
     "output_type": "stream",
     "text": [
      "c:\\users\\zxcz1\\appdata\\local\\programs\\python\\python38\\lib\\site-packages\\sklearn\\metrics\\_classification.py:1221: UndefinedMetricWarning: Precision and F-score are ill-defined and being set to 0.0 in labels with no predicted samples. Use `zero_division` parameter to control this behavior.\n",
      "  _warn_prf(average, modifier, msg_start, len(result))\n",
      "c:\\users\\zxcz1\\appdata\\local\\programs\\python\\python38\\lib\\site-packages\\sklearn\\metrics\\_classification.py:1221: UndefinedMetricWarning: Recall and F-score are ill-defined and being set to 0.0 in labels with no true samples. Use `zero_division` parameter to control this behavior.\n",
      "  _warn_prf(average, modifier, msg_start, len(result))\n"
     ]
    },
    {
     "name": "stdout",
     "output_type": "stream",
     "text": [
      "Evaluation: 9 n_neighbor\n",
      "F1 score: 0.6372232883997614\n",
      "Accuracy score: 0.6303366886497744\n",
      "              precision    recall  f1-score   support\n",
      "\n",
      "           1       0.00      0.00      0.00         1\n",
      "           2       1.00      1.00      1.00         1\n",
      "           5       0.00      0.00      0.00         0\n",
      "          16       0.00      0.00      0.00         0\n",
      "          25       1.00      1.00      1.00         1\n",
      "          26       1.00      1.00      1.00         1\n",
      "          27       0.00      0.00      0.00         0\n",
      "          28       0.00      0.00      0.00         1\n",
      "          29       1.00      1.00      1.00         1\n",
      "          31       0.00      0.00      0.00         1\n",
      "          34       0.00      0.00      0.00         1\n",
      "          41       0.00      0.00      0.00         1\n",
      "          45       1.00      1.00      1.00         1\n",
      "          46       0.00      0.00      0.00         0\n",
      "\n",
      "    accuracy                           0.50        10\n",
      "   macro avg       0.36      0.36      0.36        10\n",
      "weighted avg       0.50      0.50      0.50        10\n",
      "\n"
     ]
    },
    {
     "name": "stderr",
     "output_type": "stream",
     "text": [
      "c:\\users\\zxcz1\\appdata\\local\\programs\\python\\python38\\lib\\site-packages\\sklearn\\metrics\\_classification.py:1221: UndefinedMetricWarning: Precision and F-score are ill-defined and being set to 0.0 in labels with no predicted samples. Use `zero_division` parameter to control this behavior.\n",
      "  _warn_prf(average, modifier, msg_start, len(result))\n",
      "c:\\users\\zxcz1\\appdata\\local\\programs\\python\\python38\\lib\\site-packages\\sklearn\\metrics\\_classification.py:1221: UndefinedMetricWarning: Recall and F-score are ill-defined and being set to 0.0 in labels with no true samples. Use `zero_division` parameter to control this behavior.\n",
      "  _warn_prf(average, modifier, msg_start, len(result))\n"
     ]
    },
    {
     "name": "stdout",
     "output_type": "stream",
     "text": [
      "Evaluation: 15 n_neighbor\n",
      "F1 score: 0.6017494831254027\n",
      "Accuracy score: 0.5928497049635543\n",
      "              precision    recall  f1-score   support\n",
      "\n",
      "           1       0.00      0.00      0.00         1\n",
      "           2       1.00      1.00      1.00         1\n",
      "           5       0.00      0.00      0.00         0\n",
      "          25       1.00      1.00      1.00         1\n",
      "          26       1.00      1.00      1.00         1\n",
      "          27       0.00      0.00      0.00         0\n",
      "          28       0.00      0.00      0.00         1\n",
      "          29       1.00      1.00      1.00         1\n",
      "          31       0.00      0.00      0.00         1\n",
      "          34       0.00      0.00      0.00         1\n",
      "          41       0.00      0.00      0.00         1\n",
      "          45       1.00      1.00      1.00         1\n",
      "          46       0.00      0.00      0.00         0\n",
      "\n",
      "    accuracy                           0.50        10\n",
      "   macro avg       0.38      0.38      0.38        10\n",
      "weighted avg       0.50      0.50      0.50        10\n",
      "\n"
     ]
    },
    {
     "name": "stderr",
     "output_type": "stream",
     "text": [
      "c:\\users\\zxcz1\\appdata\\local\\programs\\python\\python38\\lib\\site-packages\\sklearn\\metrics\\_classification.py:1221: UndefinedMetricWarning: Precision and F-score are ill-defined and being set to 0.0 in labels with no predicted samples. Use `zero_division` parameter to control this behavior.\n",
      "  _warn_prf(average, modifier, msg_start, len(result))\n",
      "c:\\users\\zxcz1\\appdata\\local\\programs\\python\\python38\\lib\\site-packages\\sklearn\\metrics\\_classification.py:1221: UndefinedMetricWarning: Recall and F-score are ill-defined and being set to 0.0 in labels with no true samples. Use `zero_division` parameter to control this behavior.\n",
      "  _warn_prf(average, modifier, msg_start, len(result))\n"
     ]
    },
    {
     "name": "stdout",
     "output_type": "stream",
     "text": [
      "Evaluation: 50 n_neighbor\n"
     ]
    }
   ],
   "source": [
    "from sklearn.neighbors import KNeighborsClassifier\n",
    "\n",
    "n_neighbors = [1, 5, 9, 15, 50, 100]\n",
    "for n_neighbor in n_neighbors:\n",
    "    knn = KNeighborsClassifier(n_neighbors=n_neighbor, algorithm='auto', leaf_size=1, weights='distance')\n",
    "    knn.fit(X_train, y_train)\n",
    "    print(\"Evaluation:\", n_neighbor, \"n_neighbor\")\n",
    "    y_pred = knn.predict(X_val)\n",
    "    knn_f1 = metrics.f1_score(y_val, y_pred, average= \"weighted\")\n",
    "    print(\"F1 score: {}\".format(knn_f1))\n",
    "    knn_accuracy = metrics.accuracy_score(y_val, y_pred)\n",
    "    print(\"Accuracy score: {}\".format(knn_accuracy))\n",
    "    print(metrics.classification_report(y_val[:10],y_pred[:10]))"
   ],
   "metadata": {
    "collapsed": false,
    "pycharm": {
     "name": "#%%\n",
     "is_executing": true
    }
   }
  },
  {
   "cell_type": "code",
   "execution_count": 11,
   "outputs": [
    {
     "name": "stdout",
     "output_type": "stream",
     "text": [
      "Fitting 5 folds for each of 6 candidates, totalling 30 fits\n"
     ]
    },
    {
     "name": "stderr",
     "output_type": "stream",
     "text": [
      "[Parallel(n_jobs=4)]: Using backend LokyBackend with 4 concurrent workers.\n",
      "[Parallel(n_jobs=4)]: Done  30 out of  30 | elapsed: 19.8min finished\n"
     ]
    },
    {
     "name": "stdout",
     "output_type": "stream",
     "text": [
      "0.1488833349052155\n",
      "{'algorithm': 'auto', 'leaf_size': 1, 'n_neighbors': 15, 'weights': 'distance'}\n",
      "KNeighborsClassifier(leaf_size=1, n_neighbors=15, weights='distance')\n"
     ]
    }
   ],
   "source": [
    "param_grid = {'n_neighbors':n_neighbors, 'algorithm':['auto'], 'leaf_size': [1], 'weights':['distance']}\n",
    "knn = KNeighborsClassifier()\n",
    "gridKNN = GridSearchCV(knn, param_grid, refit=True, verbose=2, n_jobs=4)\n",
    "gridKNN.fit(X_train, y_train)\n",
    "print(gridKNN.best_score_)\n",
    "print(gridKNN.best_params_)\n",
    "print(gridKNN.best_estimator_)"
   ],
   "metadata": {
    "collapsed": false,
    "pycharm": {
     "name": "#%%\n"
    }
   }
  },
  {
   "cell_type": "markdown",
   "source": [
    "# KNN report and analysis"
   ],
   "metadata": {
    "collapsed": false,
    "pycharm": {
     "name": "#%% md\n"
    }
   }
  },
  {
   "cell_type": "code",
   "execution_count": 12,
   "outputs": [
    {
     "name": "stdout",
     "output_type": "stream",
     "text": [
      "-----------------KNN Report---------------\n",
      "F1 score: 0.12528536162173176\n",
      "Accuracy score: 0.1386481802426343\n",
      "Confusion matrix for random 10 classes: \n",
      " [[0 0 0 0 0 0 0 0 0 0 0 0 0 0 0 1]\n",
      " [0 0 0 0 0 0 0 0 0 0 0 0 0 0 0 0]\n",
      " [0 0 0 0 0 0 0 0 0 0 0 0 0 0 0 0]\n",
      " [0 0 0 0 0 0 0 0 0 1 0 0 0 0 0 0]\n",
      " [0 0 0 0 0 0 0 0 1 0 0 0 0 0 0 0]\n",
      " [0 0 1 0 0 0 0 0 0 0 0 0 0 0 0 0]\n",
      " [0 0 0 0 0 0 0 0 0 0 0 0 0 0 0 1]\n",
      " [0 0 0 0 0 0 0 0 0 0 0 0 0 0 0 0]\n",
      " [0 0 0 0 0 0 0 0 0 0 0 0 0 0 0 0]\n",
      " [0 0 0 0 0 0 0 0 0 0 0 0 0 0 0 0]\n",
      " [0 1 0 0 0 0 0 0 0 0 0 0 0 0 0 0]\n",
      " [0 0 0 0 0 0 0 0 0 0 0 1 0 0 0 0]\n",
      " [0 1 0 0 0 0 0 0 0 0 0 0 0 0 0 0]\n",
      " [0 0 0 0 0 0 0 1 0 0 0 0 0 0 0 0]\n",
      " [0 1 0 0 0 0 0 0 0 0 0 0 0 0 0 0]\n",
      " [0 0 0 0 0 0 0 0 0 0 0 0 0 0 0 0]]\n",
      "Plotting confusion matrix for random 10 classes\n"
     ]
    },
    {
     "data": {
      "text/plain": "<Figure size 432x288 with 2 Axes>",
      "image/png": "[encoded data removed]"
     },
     "metadata": {
      "needs_background": "light"
     },
     "output_type": "display_data"
    },
    {
     "name": "stdout",
     "output_type": "stream",
     "text": [
      "              precision    recall  f1-score   support\n",
      "\n",
      "           0       0.00      0.00      0.00        14\n",
      "           1       0.33      0.10      0.15        10\n",
      "           2       0.00      0.00      0.00         8\n",
      "           3       0.00      0.00      0.00         3\n",
      "           4       0.14      0.12      0.13        17\n",
      "           5       0.50      0.33      0.40        12\n",
      "           6       0.00      0.00      0.00        10\n",
      "           7       0.57      0.29      0.38        14\n",
      "           8       0.04      0.62      0.07         8\n",
      "           9       0.56      0.38      0.45        13\n",
      "          10       0.00      0.00      0.00        10\n",
      "          11       0.20      0.06      0.09        17\n",
      "          12       0.00      0.00      0.00        13\n",
      "          13       1.00      0.10      0.18        10\n",
      "          14       0.18      0.38      0.24         8\n",
      "          15       0.30      0.19      0.23        16\n",
      "          16       0.00      0.00      0.00        10\n",
      "          17       0.00      0.00      0.00        14\n",
      "          18       0.00      0.00      0.00        12\n",
      "          19       0.00      0.00      0.00        19\n",
      "          20       0.08      0.70      0.14        10\n",
      "          21       0.22      0.11      0.15        18\n",
      "          22       0.50      0.43      0.46        14\n",
      "          23       0.00      0.00      0.00        12\n",
      "          24       0.00      0.00      0.00        22\n",
      "          25       0.00      0.00      0.00        20\n",
      "          26       0.00      0.00      0.00         1\n",
      "          27       0.11      0.44      0.18         9\n",
      "          28       0.09      0.09      0.09        11\n",
      "          29       0.00      0.00      0.00        11\n",
      "          30       0.50      0.25      0.33         4\n",
      "          31       1.00      0.08      0.14        13\n",
      "          32       0.33      0.14      0.20         7\n",
      "          33       0.23      0.23      0.23        13\n",
      "          34       0.00      0.00      0.00        11\n",
      "          35       0.21      0.62      0.31        13\n",
      "          36       0.00      0.00      0.00        10\n",
      "          37       0.12      0.08      0.10        12\n",
      "          38       0.05      0.12      0.07         8\n",
      "          39       0.00      0.00      0.00        11\n",
      "          40       0.07      0.08      0.07        13\n",
      "          41       0.00      0.00      0.00         9\n",
      "          42       0.07      0.09      0.08        11\n",
      "          43       0.07      0.11      0.09         9\n",
      "          44       0.50      0.08      0.13        13\n",
      "          45       1.00      0.12      0.22        16\n",
      "          46       0.39      0.47      0.42        15\n",
      "          47       0.25      0.08      0.12        12\n",
      "          48       0.00      0.00      0.00         4\n",
      "          49       0.06      0.14      0.09         7\n",
      "\n",
      "    accuracy                           0.14       577\n",
      "   macro avg       0.19      0.14      0.12       577\n",
      "weighted avg       0.21      0.14      0.13       577\n",
      "\n"
     ]
    },
    {
     "name": "stderr",
     "output_type": "stream",
     "text": [
      "c:\\users\\zxcz1\\appdata\\local\\programs\\python\\python38\\lib\\site-packages\\sklearn\\metrics\\_classification.py:1221: UndefinedMetricWarning: Precision and F-score are ill-defined and being set to 0.0 in labels with no predicted samples. Use `zero_division` parameter to control this behavior.\n",
      "  _warn_prf(average, modifier, msg_start, len(result))\n"
     ]
    }
   ],
   "source": [
    "y_pred_knn = gridKNN.predict(X_val)\n",
    "knn_f1 = metrics.f1_score(y_val, y_pred_knn, average= \"weighted\")\n",
    "knn_accuracy = metrics.accuracy_score(y_val, y_pred_knn)\n",
    "knn_cm = metrics.confusion_matrix(y_val[:10], y_pred_knn[:10])\n",
    "print(\"-----------------KNN Report---------------\")\n",
    "print(\"F1 score: {}\".format(knn_f1))\n",
    "print(\"Accuracy score: {}\".format(knn_accuracy))\n",
    "print(\"Confusion matrix for random 10 classes: \\n\", knn_cm)\n",
    "print('Plotting confusion matrix for random 10 classes')\n",
    "\n",
    "plt.figure()\n",
    "plot_confusion_matrix(knn_cm[:10], y_val[:10])\n",
    "plt.show()\n",
    "\n",
    "print(metrics.classification_report(y_val, y_pred_knn))\n"
   ],
   "metadata": {
    "collapsed": false,
    "pycharm": {
     "name": "#%%\n"
    }
   }
  },
  {
   "cell_type": "markdown",
   "source": [
    "# Naive Bayes Classifier"
   ],
   "metadata": {
    "collapsed": false
   }
  },
  {
   "cell_type": "code",
   "execution_count": 34,
   "outputs": [
    {
     "ename": "ValueError",
     "evalue": "Negative values in data passed to ComplementNB (input X)",
     "output_type": "error",
     "traceback": [
      "\u001B[1;31m---------------------------------------------------------------------------\u001B[0m",
      "\u001B[1;31mValueError\u001B[0m                                Traceback (most recent call last)",
      "\u001B[1;32m<ipython-input-34-8219a56d1192>\u001B[0m in \u001B[0;36m<module>\u001B[1;34m\u001B[0m\n\u001B[0;32m      5\u001B[0m \u001B[1;33m\u001B[0m\u001B[0m\n\u001B[0;32m      6\u001B[0m \u001B[0mComplement_NB\u001B[0m \u001B[1;33m=\u001B[0m \u001B[0mComplementNB\u001B[0m\u001B[1;33m(\u001B[0m\u001B[1;33m)\u001B[0m\u001B[1;33m\u001B[0m\u001B[1;33m\u001B[0m\u001B[0m\n\u001B[1;32m----> 7\u001B[1;33m \u001B[0mComplement_NB\u001B[0m\u001B[1;33m.\u001B[0m\u001B[0mfit\u001B[0m\u001B[1;33m(\u001B[0m\u001B[0mX_train\u001B[0m\u001B[1;33m,\u001B[0m \u001B[0my_train\u001B[0m\u001B[1;33m)\u001B[0m\u001B[1;33m\u001B[0m\u001B[1;33m\u001B[0m\u001B[0m\n\u001B[0m\u001B[0;32m      8\u001B[0m \u001B[1;33m\u001B[0m\u001B[0m\n\u001B[0;32m      9\u001B[0m \u001B[0mGaussian_NB\u001B[0m \u001B[1;33m=\u001B[0m \u001B[0mGaussianNB\u001B[0m\u001B[1;33m(\u001B[0m\u001B[1;33m)\u001B[0m\u001B[1;33m\u001B[0m\u001B[1;33m\u001B[0m\u001B[0m\n",
      "\u001B[1;32mc:\\users\\zxcz1\\appdata\\local\\programs\\python\\python38\\lib\\site-packages\\sklearn\\naive_bayes.py\u001B[0m in \u001B[0;36mfit\u001B[1;34m(self, X, y, sample_weight)\u001B[0m\n\u001B[0;32m    639\u001B[0m \u001B[1;33m\u001B[0m\u001B[0m\n\u001B[0;32m    640\u001B[0m         \u001B[0mself\u001B[0m\u001B[1;33m.\u001B[0m\u001B[0m_init_counters\u001B[0m\u001B[1;33m(\u001B[0m\u001B[0mn_effective_classes\u001B[0m\u001B[1;33m,\u001B[0m \u001B[0mn_features\u001B[0m\u001B[1;33m)\u001B[0m\u001B[1;33m\u001B[0m\u001B[1;33m\u001B[0m\u001B[0m\n\u001B[1;32m--> 641\u001B[1;33m         \u001B[0mself\u001B[0m\u001B[1;33m.\u001B[0m\u001B[0m_count\u001B[0m\u001B[1;33m(\u001B[0m\u001B[0mX\u001B[0m\u001B[1;33m,\u001B[0m \u001B[0mY\u001B[0m\u001B[1;33m)\u001B[0m\u001B[1;33m\u001B[0m\u001B[1;33m\u001B[0m\u001B[0m\n\u001B[0m\u001B[0;32m    642\u001B[0m         \u001B[0malpha\u001B[0m \u001B[1;33m=\u001B[0m \u001B[0mself\u001B[0m\u001B[1;33m.\u001B[0m\u001B[0m_check_alpha\u001B[0m\u001B[1;33m(\u001B[0m\u001B[1;33m)\u001B[0m\u001B[1;33m\u001B[0m\u001B[1;33m\u001B[0m\u001B[0m\n\u001B[0;32m    643\u001B[0m         \u001B[0mself\u001B[0m\u001B[1;33m.\u001B[0m\u001B[0m_update_feature_log_prob\u001B[0m\u001B[1;33m(\u001B[0m\u001B[0malpha\u001B[0m\u001B[1;33m)\u001B[0m\u001B[1;33m\u001B[0m\u001B[1;33m\u001B[0m\u001B[0m\n",
      "\u001B[1;32mc:\\users\\zxcz1\\appdata\\local\\programs\\python\\python38\\lib\\site-packages\\sklearn\\naive_bayes.py\u001B[0m in \u001B[0;36m_count\u001B[1;34m(self, X, Y)\u001B[0m\n\u001B[0;32m    868\u001B[0m     \u001B[1;32mdef\u001B[0m \u001B[0m_count\u001B[0m\u001B[1;33m(\u001B[0m\u001B[0mself\u001B[0m\u001B[1;33m,\u001B[0m \u001B[0mX\u001B[0m\u001B[1;33m,\u001B[0m \u001B[0mY\u001B[0m\u001B[1;33m)\u001B[0m\u001B[1;33m:\u001B[0m\u001B[1;33m\u001B[0m\u001B[1;33m\u001B[0m\u001B[0m\n\u001B[0;32m    869\u001B[0m         \u001B[1;34m\"\"\"Count feature occurrences.\"\"\"\u001B[0m\u001B[1;33m\u001B[0m\u001B[1;33m\u001B[0m\u001B[0m\n\u001B[1;32m--> 870\u001B[1;33m         \u001B[0mcheck_non_negative\u001B[0m\u001B[1;33m(\u001B[0m\u001B[0mX\u001B[0m\u001B[1;33m,\u001B[0m \u001B[1;34m\"ComplementNB (input X)\"\u001B[0m\u001B[1;33m)\u001B[0m\u001B[1;33m\u001B[0m\u001B[1;33m\u001B[0m\u001B[0m\n\u001B[0m\u001B[0;32m    871\u001B[0m         \u001B[0mself\u001B[0m\u001B[1;33m.\u001B[0m\u001B[0mfeature_count_\u001B[0m \u001B[1;33m+=\u001B[0m \u001B[0msafe_sparse_dot\u001B[0m\u001B[1;33m(\u001B[0m\u001B[0mY\u001B[0m\u001B[1;33m.\u001B[0m\u001B[0mT\u001B[0m\u001B[1;33m,\u001B[0m \u001B[0mX\u001B[0m\u001B[1;33m)\u001B[0m\u001B[1;33m\u001B[0m\u001B[1;33m\u001B[0m\u001B[0m\n\u001B[0;32m    872\u001B[0m         \u001B[0mself\u001B[0m\u001B[1;33m.\u001B[0m\u001B[0mclass_count_\u001B[0m \u001B[1;33m+=\u001B[0m \u001B[0mY\u001B[0m\u001B[1;33m.\u001B[0m\u001B[0msum\u001B[0m\u001B[1;33m(\u001B[0m\u001B[0maxis\u001B[0m\u001B[1;33m=\u001B[0m\u001B[1;36m0\u001B[0m\u001B[1;33m)\u001B[0m\u001B[1;33m\u001B[0m\u001B[1;33m\u001B[0m\u001B[0m\n",
      "\u001B[1;32mc:\\users\\zxcz1\\appdata\\local\\programs\\python\\python38\\lib\\site-packages\\sklearn\\utils\\validation.py\u001B[0m in \u001B[0;36mcheck_non_negative\u001B[1;34m(X, whom)\u001B[0m\n\u001B[0;32m   1044\u001B[0m \u001B[1;33m\u001B[0m\u001B[0m\n\u001B[0;32m   1045\u001B[0m     \u001B[1;32mif\u001B[0m \u001B[0mX_min\u001B[0m \u001B[1;33m<\u001B[0m \u001B[1;36m0\u001B[0m\u001B[1;33m:\u001B[0m\u001B[1;33m\u001B[0m\u001B[1;33m\u001B[0m\u001B[0m\n\u001B[1;32m-> 1046\u001B[1;33m         \u001B[1;32mraise\u001B[0m \u001B[0mValueError\u001B[0m\u001B[1;33m(\u001B[0m\u001B[1;34m\"Negative values in data passed to %s\"\u001B[0m \u001B[1;33m%\u001B[0m \u001B[0mwhom\u001B[0m\u001B[1;33m)\u001B[0m\u001B[1;33m\u001B[0m\u001B[1;33m\u001B[0m\u001B[0m\n\u001B[0m\u001B[0;32m   1047\u001B[0m \u001B[1;33m\u001B[0m\u001B[0m\n\u001B[0;32m   1048\u001B[0m \u001B[1;33m\u001B[0m\u001B[0m\n",
      "\u001B[1;31mValueError\u001B[0m: Negative values in data passed to ComplementNB (input X)"
     ]
    }
   ],
   "source": [
    "from sklearn.naive_bayes import *\n",
    "if not is_reduce_dim:\n",
    "    Categorical_NB = CategoricalNB()\n",
    "    Categorical_NB.fit(X_train, y_train)\n",
    "\n",
    "    Complement_NB = ComplementNB()\n",
    "    Complement_NB.fit(X_train, y_train)\n",
    "\n",
    "    Gaussian_NB = GaussianNB()\n",
    "    Gaussian_NB.fit(X_train, y_train)\n",
    "\n",
    "    Multinomial_NB = MultinomialNB()\n",
    "    Multinomial_NB.fit(X_train, y_train)\n"
   ],
   "metadata": {
    "collapsed": false,
    "pycharm": {
     "name": "#%%\n"
    }
   }
  },
  {
   "cell_type": "markdown",
   "source": [
    "# Naive Bayes Classifier report and analysis"
   ],
   "metadata": {
    "collapsed": false
   }
  },
  {
   "cell_type": "code",
   "execution_count": 18,
   "outputs": [
    {
     "name": "stdout",
     "output_type": "stream",
     "text": [
      "-----------------Naive Bayes Classifier Report---------------\n",
      "CategoricalNB F1 score: 0.0007132835803298788 and Accuracy score: 0.019064124783362217\n",
      "ComplementNB F1 score: 0.19131295919341063 and Accuracy score: 0.22876949740034663\n",
      "GaussianNB F1 score: 0.23437753018737778 and Accuracy score: 0.24610051993067592\n",
      "MultinomialNB F1 score: 0.05428965555834216 and Accuracy score: 0.09532062391681109\n",
      "Confusion matrix for random 10 classes: \n",
      " [[0 0 0 0 0 0 0 0 0 0 0 0 1 0 0 0 0 0]\n",
      " [0 0 0 0 0 0 0 0 0 0 0 0 0 0 0 0 0 0]\n",
      " [0 0 0 0 0 0 0 0 0 0 0 0 0 0 0 0 0 0]\n",
      " [0 0 0 0 0 0 0 0 0 0 0 0 0 0 0 0 0 0]\n",
      " [0 0 0 0 0 0 0 0 0 0 0 0 0 0 0 0 0 0]\n",
      " [0 0 0 0 0 0 0 0 0 0 0 0 0 0 0 0 0 0]\n",
      " [0 0 0 0 0 0 0 0 0 0 0 0 0 0 0 0 0 0]\n",
      " [0 0 0 0 0 0 1 0 0 0 0 0 0 0 0 0 0 0]\n",
      " [0 0 0 0 0 0 0 0 1 0 0 0 0 0 0 0 0 0]\n",
      " [0 0 1 0 0 0 0 0 0 0 0 0 0 0 0 0 0 0]\n",
      " [1 0 0 0 0 0 0 0 0 0 0 0 0 0 0 0 0 0]\n",
      " [0 0 0 0 0 0 0 0 0 0 0 0 0 0 0 0 0 0]\n",
      " [0 0 0 0 0 0 0 0 0 0 0 0 0 0 0 0 0 0]\n",
      " [0 1 0 0 0 0 0 0 0 0 0 0 0 0 0 0 0 0]\n",
      " [0 0 0 0 1 0 0 0 0 0 0 0 0 0 0 0 0 0]\n",
      " [0 0 0 1 0 0 0 0 0 0 0 0 0 0 0 0 0 0]\n",
      " [0 0 0 0 0 1 0 0 0 0 0 0 0 0 0 0 0 0]\n",
      " [0 0 0 0 0 0 0 0 0 0 0 1 0 0 0 0 0 0]]\n",
      "Plotting confusion matrix for random 10 classes\n"
     ]
    },
    {
     "data": {
      "text/plain": "<Figure size 432x288 with 2 Axes>",
      "image/png": "[encoded data removed]"
     },
     "metadata": {
      "needs_background": "light"
     },
     "output_type": "display_data"
    },
    {
     "name": "stdout",
     "output_type": "stream",
     "text": [
      "              precision    recall  f1-score   support\n",
      "\n",
      "           0       0.31      0.29      0.30        14\n",
      "           1       0.00      0.00      0.00        10\n",
      "           2       0.14      0.12      0.13         8\n",
      "           3       0.00      0.00      0.00         3\n",
      "           4       0.08      0.06      0.07        17\n",
      "           5       0.50      0.42      0.45        12\n",
      "           6       0.17      0.20      0.18        10\n",
      "           7       0.17      0.21      0.19        14\n",
      "           8       0.33      0.38      0.35         8\n",
      "           9       0.21      0.23      0.22        13\n",
      "          10       0.25      0.10      0.14        10\n",
      "          11       0.25      0.18      0.21        17\n",
      "          12       0.36      0.38      0.37        13\n",
      "          13       0.33      0.50      0.40        10\n",
      "          14       0.17      0.50      0.26         8\n",
      "          15       0.86      0.38      0.52        16\n",
      "          16       0.62      0.50      0.56        10\n",
      "          17       0.00      0.00      0.00        14\n",
      "          18       0.20      0.08      0.12        12\n",
      "          19       0.00      0.00      0.00        19\n",
      "          20       0.27      0.40      0.32        10\n",
      "          21       0.17      0.06      0.08        18\n",
      "          22       0.56      0.71      0.63        14\n",
      "          23       0.00      0.00      0.00        12\n",
      "          24       0.40      0.18      0.25        22\n",
      "          25       0.33      0.30      0.32        20\n",
      "          26       0.00      0.00      0.00         1\n",
      "          27       0.12      0.11      0.12         9\n",
      "          28       0.40      0.18      0.25        11\n",
      "          29       0.57      0.36      0.44        11\n",
      "          30       0.10      0.25      0.14         4\n",
      "          31       0.18      0.15      0.17        13\n",
      "          32       0.50      0.14      0.22         7\n",
      "          33       0.26      0.77      0.39        13\n",
      "          34       0.06      0.09      0.07        11\n",
      "          35       0.43      0.46      0.44        13\n",
      "          36       0.20      0.20      0.20        10\n",
      "          37       0.25      0.25      0.25        12\n",
      "          38       0.25      0.12      0.17         8\n",
      "          39       0.67      0.18      0.29        11\n",
      "          40       0.20      0.23      0.21        13\n",
      "          41       0.10      0.11      0.11         9\n",
      "          42       0.00      0.00      0.00        11\n",
      "          43       0.18      0.56      0.27         9\n",
      "          44       0.00      0.00      0.00        13\n",
      "          45       0.44      0.25      0.32        16\n",
      "          46       0.31      0.33      0.32        15\n",
      "          47       0.24      0.50      0.32        12\n",
      "          48       0.09      0.25      0.13         4\n",
      "          49       0.21      0.57      0.31         7\n",
      "\n",
      "    accuracy                           0.25       577\n",
      "   macro avg       0.25      0.25      0.22       577\n",
      "weighted avg       0.27      0.25      0.23       577\n",
      "\n"
     ]
    }
   ],
   "source": [
    "y_pred_Categorical_NB = Categorical_NB.predict(X_val)\n",
    "y_pred_Complement_NB = Complement_NB.predict(X_val)\n",
    "y_pred_Gaussian_NB = Gaussian_NB.predict(X_val)\n",
    "y_pred_Multinomial_NB = Multinomial_NB.predict(X_val)\n",
    "\n",
    "Categorical_NB_f1 = metrics.f1_score(y_val, y_pred_Categorical_NB, average= \"weighted\")\n",
    "Complement_NB_f1 = metrics.f1_score(y_val, y_pred_Complement_NB, average= \"weighted\")\n",
    "Gaussian_NB_f1 = metrics.f1_score(y_val, y_pred_Gaussian_NB, average= \"weighted\")\n",
    "Multinomial_NB_f1 = metrics.f1_score(y_val, y_pred_Multinomial_NB, average= \"weighted\")\n",
    "\n",
    "Categorical_NB_accuracy = metrics.accuracy_score(y_val, y_pred_Categorical_NB)\n",
    "Complement_NB_accuracy = metrics.accuracy_score(y_val, y_pred_Complement_NB)\n",
    "Gaussian_NB_accuracy = metrics.accuracy_score(y_val, y_pred_Gaussian_NB)\n",
    "Multinomial_NB_accuracy = metrics.accuracy_score(y_val, y_pred_Multinomial_NB)\n",
    "\n",
    "Gaussian_NB_cm = metrics.confusion_matrix(y_val[:10], y_pred_Gaussian_NB[:10])\n",
    "\n",
    "print(\"-----------------Naive Bayes Classifier Report---------------\")\n",
    "print(\"CategoricalNB F1 score: {} and Accuracy score: {}\".format(Categorical_NB_f1, Categorical_NB_accuracy))\n",
    "print(\"ComplementNB F1 score: {} and Accuracy score: {}\".format(Complement_NB_f1, Complement_NB_accuracy))\n",
    "print(\"GaussianNB F1 score: {} and Accuracy score: {}\".format(Gaussian_NB_f1, Gaussian_NB_accuracy))\n",
    "print(\"MultinomialNB F1 score: {} and Accuracy score: {}\".format(Multinomial_NB_f1, Multinomial_NB_accuracy))\n",
    "print(\"Confusion matrix for random 10 classes: \\n\", Gaussian_NB_cm)\n",
    "print('Plotting confusion matrix for random 10 classes')\n",
    "\n",
    "plt.figure()\n",
    "plot_confusion_matrix(Gaussian_NB_cm[:10], y_val[:10])\n",
    "plt.show()\n",
    "\n",
    "print(metrics.classification_report(y_val, y_pred_Gaussian_NB))"
   ],
   "metadata": {
    "collapsed": false,
    "pycharm": {
     "name": "#%%\n"
    }
   }
  },
  {
   "cell_type": "markdown",
   "source": [
    "# SVM Classifier"
   ],
   "metadata": {
    "collapsed": false
   }
  },
  {
   "cell_type": "code",
   "execution_count": 35,
   "outputs": [
    {
     "name": "stdout",
     "output_type": "stream",
     "text": [
      "Evaluation: poly kernel\n",
      "F1 score: 0.11290796480194293\n",
      "Accuracy score: 0.10745233968804159\n",
      "              precision    recall  f1-score   support\n",
      "\n",
      "           0       0.00      0.00      0.00         0\n",
      "           4       0.00      0.00      0.00         1\n",
      "          17       0.00      0.00      0.00         1\n",
      "          18       1.00      1.00      1.00         1\n",
      "          19       0.00      0.00      0.00         1\n",
      "          25       0.00      0.00      0.00         1\n",
      "          28       0.00      0.00      0.00         0\n",
      "          35       0.00      0.00      0.00         0\n",
      "          36       0.00      0.00      0.00         1\n",
      "          37       0.00      0.00      0.00         1\n",
      "          42       0.00      0.00      0.00         1\n",
      "          44       0.00      0.00      0.00         1\n",
      "          47       0.00      0.00      0.00         1\n",
      "\n",
      "    accuracy                           0.10        10\n",
      "   macro avg       0.08      0.08      0.08        10\n",
      "weighted avg       0.10      0.10      0.10        10\n",
      "\n"
     ]
    },
    {
     "name": "stderr",
     "output_type": "stream",
     "text": [
      "c:\\users\\zxcz1\\appdata\\local\\programs\\python\\python38\\lib\\site-packages\\sklearn\\metrics\\_classification.py:1221: UndefinedMetricWarning: Precision and F-score are ill-defined and being set to 0.0 in labels with no predicted samples. Use `zero_division` parameter to control this behavior.\n",
      "  _warn_prf(average, modifier, msg_start, len(result))\n",
      "c:\\users\\zxcz1\\appdata\\local\\programs\\python\\python38\\lib\\site-packages\\sklearn\\metrics\\_classification.py:1221: UndefinedMetricWarning: Recall and F-score are ill-defined and being set to 0.0 in labels with no true samples. Use `zero_division` parameter to control this behavior.\n",
      "  _warn_prf(average, modifier, msg_start, len(result))\n"
     ]
    },
    {
     "name": "stdout",
     "output_type": "stream",
     "text": [
      "Evaluation: rbf kernel\n",
      "F1 score: 0.33746559903466355\n",
      "Accuracy score: 0.3587521663778163\n",
      "              precision    recall  f1-score   support\n",
      "\n",
      "           2       0.00      0.00      0.00         0\n",
      "           4       0.00      0.00      0.00         1\n",
      "          16       0.00      0.00      0.00         0\n",
      "          17       0.00      0.00      0.00         1\n",
      "          18       1.00      1.00      1.00         1\n",
      "          19       0.00      0.00      0.00         1\n",
      "          21       0.00      0.00      0.00         0\n",
      "          25       0.00      0.00      0.00         1\n",
      "          28       0.00      0.00      0.00         0\n",
      "          36       0.00      0.00      0.00         1\n",
      "          37       0.00      0.00      0.00         1\n",
      "          42       0.00      0.00      0.00         1\n",
      "          44       1.00      1.00      1.00         1\n",
      "          45       0.00      0.00      0.00         0\n",
      "          47       0.00      0.00      0.00         1\n",
      "\n",
      "    accuracy                           0.20        10\n",
      "   macro avg       0.13      0.13      0.13        10\n",
      "weighted avg       0.20      0.20      0.20        10\n",
      "\n"
     ]
    },
    {
     "name": "stderr",
     "output_type": "stream",
     "text": [
      "c:\\users\\zxcz1\\appdata\\local\\programs\\python\\python38\\lib\\site-packages\\sklearn\\metrics\\_classification.py:1221: UndefinedMetricWarning: Precision and F-score are ill-defined and being set to 0.0 in labels with no predicted samples. Use `zero_division` parameter to control this behavior.\n",
      "  _warn_prf(average, modifier, msg_start, len(result))\n",
      "c:\\users\\zxcz1\\appdata\\local\\programs\\python\\python38\\lib\\site-packages\\sklearn\\metrics\\_classification.py:1221: UndefinedMetricWarning: Recall and F-score are ill-defined and being set to 0.0 in labels with no true samples. Use `zero_division` parameter to control this behavior.\n",
      "  _warn_prf(average, modifier, msg_start, len(result))\n"
     ]
    },
    {
     "name": "stdout",
     "output_type": "stream",
     "text": [
      "Evaluation: sigmoid kernel\n",
      "F1 score: 0.309407901170187\n",
      "Accuracy score: 0.3223570190641248\n",
      "              precision    recall  f1-score   support\n",
      "\n",
      "           4       1.00      1.00      1.00         1\n",
      "          14       0.00      0.00      0.00         0\n",
      "          16       0.00      0.00      0.00         0\n",
      "          17       0.00      0.00      0.00         1\n",
      "          18       1.00      1.00      1.00         1\n",
      "          19       0.00      0.00      0.00         1\n",
      "          25       0.00      0.00      0.00         1\n",
      "          28       0.00      0.00      0.00         0\n",
      "          36       0.00      0.00      0.00         1\n",
      "          37       1.00      1.00      1.00         1\n",
      "          42       0.00      0.00      0.00         1\n",
      "          44       1.00      1.00      1.00         1\n",
      "          47       0.00      0.00      0.00         1\n",
      "          49       0.00      0.00      0.00         0\n",
      "\n",
      "    accuracy                           0.40        10\n",
      "   macro avg       0.29      0.29      0.29        10\n",
      "weighted avg       0.40      0.40      0.40        10\n",
      "\n"
     ]
    },
    {
     "name": "stderr",
     "output_type": "stream",
     "text": [
      "c:\\users\\zxcz1\\appdata\\local\\programs\\python\\python38\\lib\\site-packages\\sklearn\\metrics\\_classification.py:1221: UndefinedMetricWarning: Precision and F-score are ill-defined and being set to 0.0 in labels with no predicted samples. Use `zero_division` parameter to control this behavior.\n",
      "  _warn_prf(average, modifier, msg_start, len(result))\n",
      "c:\\users\\zxcz1\\appdata\\local\\programs\\python\\python38\\lib\\site-packages\\sklearn\\metrics\\_classification.py:1221: UndefinedMetricWarning: Recall and F-score are ill-defined and being set to 0.0 in labels with no true samples. Use `zero_division` parameter to control this behavior.\n",
      "  _warn_prf(average, modifier, msg_start, len(result))\n"
     ]
    },
    {
     "name": "stdout",
     "output_type": "stream",
     "text": [
      "Evaluation: linear kernel\n",
      "F1 score: 0.009059769575039818\n",
      "Accuracy score: 0.03119584055459272\n",
      "              precision    recall  f1-score   support\n",
      "\n",
      "           0       0.00      0.00      0.00       0.0\n",
      "           4       0.00      0.00      0.00       1.0\n",
      "          17       0.00      0.00      0.00       1.0\n",
      "          18       0.00      0.00      0.00       1.0\n",
      "          19       0.00      0.00      0.00       1.0\n",
      "          21       0.00      0.00      0.00       0.0\n",
      "          25       0.00      0.00      0.00       1.0\n",
      "          28       0.00      0.00      0.00       0.0\n",
      "          36       0.00      0.00      0.00       1.0\n",
      "          37       0.00      0.00      0.00       1.0\n",
      "          42       0.00      0.00      0.00       1.0\n",
      "          44       0.00      0.00      0.00       1.0\n",
      "          47       0.00      0.00      0.00       1.0\n",
      "\n",
      "    accuracy                           0.00      10.0\n",
      "   macro avg       0.00      0.00      0.00      10.0\n",
      "weighted avg       0.00      0.00      0.00      10.0\n",
      "\n"
     ]
    },
    {
     "name": "stderr",
     "output_type": "stream",
     "text": [
      "c:\\users\\zxcz1\\appdata\\local\\programs\\python\\python38\\lib\\site-packages\\sklearn\\metrics\\_classification.py:1221: UndefinedMetricWarning: Precision and F-score are ill-defined and being set to 0.0 in labels with no predicted samples. Use `zero_division` parameter to control this behavior.\n",
      "  _warn_prf(average, modifier, msg_start, len(result))\n",
      "c:\\users\\zxcz1\\appdata\\local\\programs\\python\\python38\\lib\\site-packages\\sklearn\\metrics\\_classification.py:1221: UndefinedMetricWarning: Recall and F-score are ill-defined and being set to 0.0 in labels with no true samples. Use `zero_division` parameter to control this behavior.\n",
      "  _warn_prf(average, modifier, msg_start, len(result))\n"
     ]
    }
   ],
   "source": [
    "from sklearn.svm import SVC\n",
    "\n",
    "kernels = ['poly', 'rbf', 'sigmoid','linear']\n",
    "for kernel in kernels:\n",
    "    svc = SVC(kernel=kernel)\n",
    "    svc.fit(X_train, y_train)\n",
    "    y_pred = svc.predict(X_val)\n",
    "    svc_f1 = metrics.f1_score(y_val, y_pred, average= \"weighted\")\n",
    "    print(\"Evaluation:\", kernel, \"kernel\")\n",
    "    print(\"F1 score: {}\".format(svc_f1))\n",
    "    svc_accuracy = metrics.accuracy_score(y_val, y_pred)\n",
    "    print(\"Accuracy score: {}\".format(svc_accuracy))\n",
    "    print(metrics.classification_report(y_val[:10],y_pred[:10]))\n"
   ],
   "metadata": {
    "collapsed": false,
    "pycharm": {
     "name": "#%%\n"
    }
   }
  },
  {
   "cell_type": "code",
   "execution_count": 36,
   "outputs": [
    {
     "name": "stdout",
     "output_type": "stream",
     "text": [
      "Fitting 5 folds for each of 16 candidates, totalling 80 fits\n"
     ]
    },
    {
     "name": "stderr",
     "output_type": "stream",
     "text": [
      "[Parallel(n_jobs=4)]: Using backend LokyBackend with 4 concurrent workers.\n",
      "[Parallel(n_jobs=4)]: Done  33 tasks      | elapsed:   20.8s\n",
      "[Parallel(n_jobs=4)]: Done  80 out of  80 | elapsed:   45.1s finished\n"
     ]
    },
    {
     "name": "stdout",
     "output_type": "stream",
     "text": [
      "0.3441884372347449\n",
      "{'C': 10, 'gamma': 'scale', 'kernel': 'rbf'}\n",
      "SVC(C=10)\n"
     ]
    }
   ],
   "source": [
    "param_grid = {'C': [0.1,1, 10, 100], 'gamma': ['scale', 'auto'],'kernel': kernels[:2]}\n",
    "svc = SVC()\n",
    "grid_svc = GridSearchCV(svc, param_grid, refit=True, verbose=2, n_jobs=4)\n",
    "grid_svc.fit(X_train, y_train)\n",
    "print(grid_svc.best_score_)\n",
    "print(grid_svc.best_params_)\n",
    "print(grid_svc.best_estimator_)"
   ],
   "metadata": {
    "collapsed": false,
    "pycharm": {
     "name": "#%%\n"
    }
   }
  },
  {
   "cell_type": "markdown",
   "source": [
    "# SVM Classifier report and analysis"
   ],
   "metadata": {
    "collapsed": false
   }
  },
  {
   "cell_type": "code",
   "execution_count": 37,
   "outputs": [
    {
     "name": "stdout",
     "output_type": "stream",
     "text": [
      "-----------------SVM Classifier Report---------------\n",
      "F1 score: 0.372472746369572\n",
      "Accuracy score: 0.38128249566724437\n",
      "Confusion matrix for random 10 classes: \n",
      " [[0 0 0 0 0 0 0 0 0 0 0 0 0 0 0 0]\n",
      " [1 0 0 0 0 0 0 0 0 0 0 0 0 0 0 0]\n",
      " [0 0 0 0 0 0 0 0 0 0 0 0 0 0 0 0]\n",
      " [0 0 0 0 0 0 0 0 0 0 0 0 0 0 0 0]\n",
      " [0 0 0 0 0 0 0 0 0 0 0 0 0 0 0 0]\n",
      " [0 0 0 0 1 0 0 0 0 0 0 0 0 0 0 0]\n",
      " [0 0 0 0 0 0 1 0 0 0 0 0 0 0 0 0]\n",
      " [0 0 0 0 0 0 0 0 1 0 0 0 0 0 0 0]\n",
      " [0 1 0 0 0 0 0 0 0 0 0 0 0 0 0 0]\n",
      " [0 0 0 0 0 0 0 0 0 0 0 0 0 0 0 0]\n",
      " [0 0 0 0 0 0 0 0 0 1 0 0 0 0 0 0]\n",
      " [0 0 0 0 0 0 0 0 0 0 0 0 0 0 1 0]\n",
      " [0 0 0 1 0 0 0 0 0 0 0 0 0 0 0 0]\n",
      " [0 0 0 0 0 0 0 0 0 0 0 0 0 1 0 0]\n",
      " [0 0 0 0 0 0 0 0 0 0 0 0 0 0 0 0]\n",
      " [0 0 1 0 0 0 0 0 0 0 0 0 0 0 0 0]]\n",
      "Plotting confusion matrix for random 10 classes\n"
     ]
    },
    {
     "data": {
      "text/plain": "<Figure size 432x288 with 2 Axes>",
      "image/png": "[encoded data removed]"
     },
     "metadata": {
      "needs_background": "light"
     },
     "output_type": "display_data"
    },
    {
     "name": "stdout",
     "output_type": "stream",
     "text": [
      "              precision    recall  f1-score   support\n",
      "\n",
      "           0       0.23      0.21      0.22        14\n",
      "           1       0.09      0.10      0.10        10\n",
      "           2       0.27      0.38      0.32         8\n",
      "           3       0.25      0.67      0.36         3\n",
      "           4       0.17      0.12      0.14        17\n",
      "           5       0.47      0.67      0.55        12\n",
      "           6       0.37      0.70      0.48        10\n",
      "           7       0.39      0.50      0.44        14\n",
      "           8       0.27      0.38      0.32         8\n",
      "           9       0.45      0.38      0.42        13\n",
      "          10       0.38      0.30      0.33        10\n",
      "          11       0.40      0.47      0.43        17\n",
      "          12       0.35      0.46      0.40        13\n",
      "          13       0.42      0.50      0.45        10\n",
      "          14       0.45      0.62      0.53         8\n",
      "          15       0.77      0.62      0.69        16\n",
      "          16       0.53      0.80      0.64        10\n",
      "          17       0.67      0.29      0.40        14\n",
      "          18       0.27      0.33      0.30        12\n",
      "          19       0.29      0.11      0.15        19\n",
      "          20       0.31      0.40      0.35        10\n",
      "          21       0.28      0.28      0.28        18\n",
      "          22       0.85      0.79      0.81        14\n",
      "          23       0.12      0.08      0.10        12\n",
      "          24       0.67      0.18      0.29        22\n",
      "          25       0.38      0.45      0.41        20\n",
      "          26       0.00      0.00      0.00         1\n",
      "          27       0.27      0.33      0.30         9\n",
      "          28       0.22      0.45      0.29        11\n",
      "          29       0.73      0.73      0.73        11\n",
      "          30       0.17      0.25      0.20         4\n",
      "          31       0.50      0.38      0.43        13\n",
      "          32       0.50      0.14      0.22         7\n",
      "          33       0.46      0.46      0.46        13\n",
      "          34       0.50      0.09      0.15        11\n",
      "          35       0.62      0.62      0.62        13\n",
      "          36       0.50      0.30      0.37        10\n",
      "          37       0.40      0.33      0.36        12\n",
      "          38       0.50      0.38      0.43         8\n",
      "          39       0.50      0.09      0.15        11\n",
      "          40       0.50      0.38      0.43        13\n",
      "          41       0.33      0.22      0.27         9\n",
      "          42       0.12      0.09      0.11        11\n",
      "          43       0.12      0.22      0.16         9\n",
      "          44       0.56      0.38      0.45        13\n",
      "          45       0.24      0.50      0.32        16\n",
      "          46       0.53      0.67      0.59        15\n",
      "          47       0.60      0.50      0.55        12\n",
      "          48       0.00      0.00      0.00         4\n",
      "          49       0.22      0.29      0.25         7\n",
      "\n",
      "    accuracy                           0.38       577\n",
      "   macro avg       0.38      0.37      0.36       577\n",
      "weighted avg       0.41      0.38      0.37       577\n",
      "\n"
     ]
    }
   ],
   "source": [
    "y_pred_svc = grid_svc.predict(X_val)\n",
    "svc_f1 = metrics.f1_score(y_val, y_pred_svc, average= \"weighted\")\n",
    "svc_accuracy = metrics.accuracy_score(y_val, y_pred_svc)\n",
    "svc_cm = metrics.confusion_matrix(y_val[:10], y_pred_svc[:10])\n",
    "print(\"-----------------SVM Classifier Report---------------\")\n",
    "print(\"F1 score: {}\".format(svc_f1))\n",
    "print(\"Accuracy score: {}\".format(svc_accuracy))\n",
    "print(\"Confusion matrix for random 10 classes: \\n\", svc_cm)\n",
    "print('Plotting confusion matrix for random 10 classes')\n",
    "\n",
    "plt.figure()\n",
    "plot_confusion_matrix(svc_cm[:10], y_val[:10])\n",
    "plt.show()\n",
    "\n",
    "print(metrics.classification_report(y_val, y_pred_svc))"
   ],
   "metadata": {
    "collapsed": false,
    "pycharm": {
     "name": "#%%\n"
    }
   }
  },
  {
   "cell_type": "markdown",
   "source": [
    "# MLP Classifier"
   ],
   "metadata": {
    "collapsed": false
   }
  },
  {
   "cell_type": "code",
   "execution_count": 40,
   "outputs": [
    {
     "name": "stdout",
     "output_type": "stream",
     "text": [
      "Iteration 1, loss = 3.91851740\n",
      "Iteration 2, loss = 3.90668161\n",
      "Iteration 3, loss = 3.89493631\n",
      "Iteration 4, loss = 3.87659171\n",
      "Iteration 5, loss = 3.84345641\n",
      "Iteration 6, loss = 3.78277609\n",
      "Iteration 7, loss = 3.68657792\n",
      "Iteration 8, loss = 3.56533681\n",
      "Iteration 9, loss = 3.44133515\n",
      "Iteration 10, loss = 3.32320171\n",
      "Iteration 11, loss = 3.21317001\n",
      "Iteration 12, loss = 3.11151858\n",
      "Iteration 13, loss = 3.02804539\n",
      "Iteration 14, loss = 2.95906798\n",
      "Iteration 15, loss = 2.88374073\n",
      "Iteration 16, loss = 2.81685173\n",
      "Iteration 17, loss = 2.75176799\n",
      "Iteration 18, loss = 2.69673035\n",
      "Iteration 19, loss = 2.66375226\n",
      "Iteration 20, loss = 2.62564347\n",
      "Iteration 21, loss = 2.58992327\n",
      "Iteration 22, loss = 2.54574885\n",
      "Iteration 23, loss = 2.52014356\n",
      "Iteration 24, loss = 2.49599454\n",
      "Iteration 25, loss = 2.46306056\n",
      "Iteration 26, loss = 2.43552794\n",
      "Iteration 27, loss = 2.40927351\n",
      "Iteration 28, loss = 2.38796950\n",
      "Iteration 29, loss = 2.36850509\n",
      "Iteration 30, loss = 2.33187247\n",
      "Iteration 31, loss = 2.30099040\n",
      "Iteration 32, loss = 2.27848758\n",
      "Iteration 33, loss = 2.26442234\n",
      "Iteration 34, loss = 2.23215878\n",
      "Iteration 35, loss = 2.20503429\n",
      "Iteration 36, loss = 2.17608827\n",
      "Iteration 37, loss = 2.16397613\n",
      "Iteration 38, loss = 2.13464526\n",
      "Iteration 39, loss = 2.11238480\n",
      "Iteration 40, loss = 2.09382760\n",
      "Iteration 41, loss = 2.06055713\n",
      "Iteration 42, loss = 2.03533052\n",
      "Iteration 43, loss = 2.01634363\n",
      "Iteration 44, loss = 1.99477699\n",
      "Iteration 45, loss = 1.97365766\n",
      "Iteration 46, loss = 1.94656359\n",
      "Iteration 47, loss = 1.92130820\n",
      "Iteration 48, loss = 1.89436742\n",
      "Iteration 49, loss = 1.87927818\n",
      "Iteration 50, loss = 1.86086121\n",
      "Iteration 51, loss = 1.83018620\n",
      "Iteration 52, loss = 1.80174663\n",
      "Iteration 53, loss = 1.78659758\n",
      "Iteration 54, loss = 1.76143990\n",
      "Iteration 55, loss = 1.73326698\n",
      "Iteration 56, loss = 1.72554913\n",
      "Iteration 57, loss = 1.69489366\n",
      "Iteration 58, loss = 1.67409078\n",
      "Iteration 59, loss = 1.63642619\n",
      "Iteration 60, loss = 1.61413380\n",
      "Iteration 61, loss = 1.58886319\n",
      "Iteration 62, loss = 1.55829160\n",
      "Iteration 63, loss = 1.54583162\n",
      "Iteration 64, loss = 1.52885511\n",
      "Iteration 65, loss = 1.50001715\n",
      "Iteration 66, loss = 1.46730292\n",
      "Iteration 67, loss = 1.44675279\n",
      "Iteration 68, loss = 1.42299057\n",
      "Iteration 69, loss = 1.39646855\n",
      "Iteration 70, loss = 1.37439908\n",
      "Iteration 71, loss = 1.34230166\n",
      "Iteration 72, loss = 1.32143405\n",
      "Iteration 73, loss = 1.29723346\n",
      "Iteration 74, loss = 1.27188635\n",
      "Iteration 75, loss = 1.24687084\n",
      "Iteration 76, loss = 1.21940786\n",
      "Iteration 77, loss = 1.20327902\n",
      "Iteration 78, loss = 1.18328247\n",
      "Iteration 79, loss = 1.14737150\n",
      "Iteration 80, loss = 1.12348123\n",
      "Iteration 81, loss = 1.10810870\n",
      "Iteration 82, loss = 1.08007301\n",
      "Iteration 83, loss = 1.05624158\n",
      "Iteration 84, loss = 1.02542061\n",
      "Iteration 85, loss = 1.00843556\n",
      "Iteration 86, loss = 0.98962059\n",
      "Iteration 87, loss = 0.96717503\n",
      "Iteration 88, loss = 0.94296246\n",
      "Iteration 89, loss = 0.91919038\n",
      "Iteration 90, loss = 0.88607839\n",
      "Iteration 91, loss = 0.86458283\n",
      "Iteration 92, loss = 0.84130421\n",
      "Iteration 93, loss = 0.81867961\n",
      "Iteration 94, loss = 0.79964326\n",
      "Iteration 95, loss = 0.77907805\n",
      "Iteration 96, loss = 0.75999181\n",
      "Iteration 97, loss = 0.73357610\n",
      "Iteration 98, loss = 0.71851507\n",
      "Iteration 99, loss = 0.70210915\n",
      "Iteration 100, loss = 0.68064312\n",
      "Iteration 101, loss = 0.65917303\n",
      "Iteration 102, loss = 0.63889592\n",
      "Iteration 103, loss = 0.61982370\n",
      "Iteration 104, loss = 0.60253227\n",
      "Iteration 105, loss = 0.57898894\n",
      "Iteration 106, loss = 0.56317769\n",
      "Iteration 107, loss = 0.54555982\n",
      "Iteration 108, loss = 0.52391139\n",
      "Iteration 109, loss = 0.50725630\n",
      "Iteration 110, loss = 0.49290670\n",
      "Iteration 111, loss = 0.47796278\n",
      "Iteration 112, loss = 0.46139305\n",
      "Iteration 113, loss = 0.44790101\n",
      "Iteration 114, loss = 0.43317408\n",
      "Iteration 115, loss = 0.41750036\n",
      "Iteration 116, loss = 0.39887390\n",
      "Iteration 117, loss = 0.38663389\n",
      "Iteration 118, loss = 0.36898066\n",
      "Iteration 119, loss = 0.35848018\n",
      "Iteration 120, loss = 0.34393541\n",
      "Iteration 121, loss = 0.33372074\n",
      "Iteration 122, loss = 0.32605176\n",
      "Iteration 123, loss = 0.30668091\n",
      "Iteration 124, loss = 0.29090912\n",
      "Iteration 125, loss = 0.28152578\n",
      "Iteration 126, loss = 0.27267813\n",
      "Iteration 127, loss = 0.26181484\n",
      "Iteration 128, loss = 0.25593538\n",
      "Iteration 129, loss = 0.24819569\n",
      "Iteration 130, loss = 0.23386956\n",
      "Iteration 131, loss = 0.22422650\n",
      "Iteration 132, loss = 0.21667258\n",
      "Iteration 133, loss = 0.21184384\n",
      "Iteration 134, loss = 0.20153628\n",
      "Iteration 135, loss = 0.19449827\n",
      "Iteration 136, loss = 0.18588293\n",
      "Iteration 137, loss = 0.17584087\n",
      "Iteration 138, loss = 0.17128258\n",
      "Iteration 139, loss = 0.16458080\n",
      "Iteration 140, loss = 0.15801842\n",
      "Iteration 141, loss = 0.15229807\n",
      "Iteration 142, loss = 0.14778251\n",
      "Iteration 143, loss = 0.14226070\n",
      "Iteration 144, loss = 0.13837015\n",
      "Iteration 145, loss = 0.13309746\n",
      "Iteration 146, loss = 0.12857940\n",
      "Iteration 147, loss = 0.12256538\n",
      "Iteration 148, loss = 0.11825282\n",
      "Iteration 149, loss = 0.11222322\n",
      "Iteration 150, loss = 0.10900589\n",
      "Iteration 151, loss = 0.10564925\n",
      "Iteration 152, loss = 0.10206719\n",
      "Iteration 153, loss = 0.09830212\n",
      "Iteration 154, loss = 0.09514313\n",
      "Iteration 155, loss = 0.09185427\n",
      "Iteration 156, loss = 0.08849832\n",
      "Iteration 157, loss = 0.08563695\n",
      "Iteration 158, loss = 0.08239070\n",
      "Iteration 159, loss = 0.07843293\n",
      "Iteration 160, loss = 0.07643068\n",
      "Iteration 161, loss = 0.07443519\n",
      "Iteration 162, loss = 0.07163602\n",
      "Iteration 163, loss = 0.06963540\n",
      "Iteration 164, loss = 0.06770421\n",
      "Iteration 165, loss = 0.06498956\n",
      "Iteration 166, loss = 0.06362826\n",
      "Iteration 167, loss = 0.06145812\n",
      "Iteration 168, loss = 0.05925235\n",
      "Iteration 169, loss = 0.05825801\n",
      "Iteration 170, loss = 0.05585520\n",
      "Iteration 171, loss = 0.05410136\n",
      "Iteration 172, loss = 0.05349146\n",
      "Iteration 173, loss = 0.05147667\n",
      "Iteration 174, loss = 0.04986412\n",
      "Iteration 175, loss = 0.04842714\n",
      "Iteration 176, loss = 0.04681001\n",
      "Iteration 177, loss = 0.04544163\n",
      "Iteration 178, loss = 0.04428745\n",
      "Iteration 179, loss = 0.04314683\n",
      "Iteration 180, loss = 0.04180556\n",
      "Iteration 181, loss = 0.04112993\n",
      "Iteration 182, loss = 0.03991684\n",
      "Iteration 183, loss = 0.03888914\n",
      "Iteration 184, loss = 0.03794878\n",
      "Iteration 185, loss = 0.03685872\n",
      "Iteration 186, loss = 0.03614467\n",
      "Iteration 187, loss = 0.03563612\n",
      "Iteration 188, loss = 0.03426878\n",
      "Iteration 189, loss = 0.03356134\n",
      "Iteration 190, loss = 0.03243206\n",
      "Iteration 191, loss = 0.03181896\n",
      "Iteration 192, loss = 0.03147660\n",
      "Iteration 193, loss = 0.03071394\n",
      "Iteration 194, loss = 0.02976843\n",
      "Iteration 195, loss = 0.02911032\n",
      "Iteration 196, loss = 0.02856925\n",
      "Iteration 197, loss = 0.02800005\n",
      "Iteration 198, loss = 0.02703971\n",
      "Iteration 199, loss = 0.02648496\n",
      "Iteration 200, loss = 0.02592348\n",
      "Iteration 201, loss = 0.02559939\n",
      "Iteration 202, loss = 0.02530143\n",
      "Iteration 203, loss = 0.02441561\n",
      "Iteration 204, loss = 0.02401991\n",
      "Iteration 205, loss = 0.02327111\n",
      "Iteration 206, loss = 0.02294512\n",
      "Iteration 207, loss = 0.02226079\n",
      "Iteration 208, loss = 0.02196584\n",
      "Iteration 209, loss = 0.02149158\n",
      "Iteration 210, loss = 0.02113766\n",
      "Iteration 211, loss = 0.02053283\n",
      "Iteration 212, loss = 0.02022995\n",
      "Iteration 213, loss = 0.01976390\n",
      "Iteration 214, loss = 0.01966140\n",
      "Iteration 215, loss = 0.01904467\n",
      "Iteration 216, loss = 0.01870182\n",
      "Iteration 217, loss = 0.01853014\n",
      "Iteration 218, loss = 0.01818719\n",
      "Iteration 219, loss = 0.01778577\n",
      "Iteration 220, loss = 0.01743997\n",
      "Iteration 221, loss = 0.01720392\n",
      "Iteration 222, loss = 0.01689717\n",
      "Iteration 223, loss = 0.01645507\n",
      "Iteration 224, loss = 0.01631703\n",
      "Iteration 225, loss = 0.01590579\n",
      "Iteration 226, loss = 0.01564938\n",
      "Iteration 227, loss = 0.01544097\n",
      "Iteration 228, loss = 0.01520593\n",
      "Iteration 229, loss = 0.01500786\n",
      "Iteration 230, loss = 0.01467207\n",
      "Iteration 231, loss = 0.01449363\n",
      "Iteration 232, loss = 0.01424014\n",
      "Iteration 233, loss = 0.01403066\n",
      "Iteration 234, loss = 0.01377917\n",
      "Iteration 235, loss = 0.01351051\n",
      "Iteration 236, loss = 0.01337623\n",
      "Iteration 237, loss = 0.01315203\n",
      "Iteration 238, loss = 0.01299001\n",
      "Iteration 239, loss = 0.01277081\n",
      "Iteration 240, loss = 0.01259514\n",
      "Iteration 241, loss = 0.01238442\n",
      "Iteration 242, loss = 0.01221362\n",
      "Iteration 243, loss = 0.01217685\n",
      "Iteration 244, loss = 0.01181829\n",
      "Iteration 245, loss = 0.01166968\n",
      "Iteration 246, loss = 0.01155553\n",
      "Iteration 247, loss = 0.01135399\n",
      "Iteration 248, loss = 0.01119511\n",
      "Iteration 249, loss = 0.01103087\n",
      "Iteration 250, loss = 0.01087275\n",
      "Iteration 251, loss = 0.01076689\n",
      "Iteration 252, loss = 0.01057375\n",
      "Iteration 253, loss = 0.01048190\n",
      "Iteration 254, loss = 0.01032723\n",
      "Iteration 255, loss = 0.01020132\n",
      "Iteration 256, loss = 0.01004546\n",
      "Iteration 257, loss = 0.00992177\n",
      "Iteration 258, loss = 0.00981075\n",
      "Iteration 259, loss = 0.00970664\n",
      "Iteration 260, loss = 0.00955742\n",
      "Iteration 261, loss = 0.00945293\n",
      "Iteration 262, loss = 0.00935453\n",
      "Iteration 263, loss = 0.00921760\n",
      "Iteration 264, loss = 0.00911070\n",
      "Iteration 265, loss = 0.00902011\n",
      "Iteration 266, loss = 0.00888203\n",
      "Iteration 267, loss = 0.00880909\n",
      "Iteration 268, loss = 0.00874015\n",
      "Iteration 269, loss = 0.00858316\n",
      "Iteration 270, loss = 0.00853963\n",
      "Iteration 271, loss = 0.00839991\n",
      "Iteration 272, loss = 0.00830232\n",
      "Iteration 273, loss = 0.00827682\n",
      "Iteration 274, loss = 0.00820319\n",
      "Iteration 275, loss = 0.00806464\n",
      "Iteration 276, loss = 0.00796805\n",
      "Iteration 277, loss = 0.00788756\n",
      "Iteration 278, loss = 0.00780847\n",
      "Iteration 279, loss = 0.00771497\n",
      "Iteration 280, loss = 0.00764427\n",
      "Iteration 281, loss = 0.00753503\n",
      "Iteration 282, loss = 0.00748583\n",
      "Iteration 283, loss = 0.00739487\n",
      "Iteration 284, loss = 0.00733731\n",
      "Iteration 285, loss = 0.00727189\n",
      "Iteration 286, loss = 0.00718990\n",
      "Iteration 287, loss = 0.00709848\n",
      "Iteration 288, loss = 0.00704416\n",
      "Iteration 289, loss = 0.00701746\n",
      "Iteration 290, loss = 0.00691460\n",
      "Iteration 291, loss = 0.00684914\n",
      "Iteration 292, loss = 0.00680259\n",
      "Iteration 293, loss = 0.00674233\n",
      "Iteration 294, loss = 0.00667824\n",
      "Iteration 295, loss = 0.00664979\n",
      "Iteration 296, loss = 0.00657149\n",
      "Iteration 297, loss = 0.00653154\n",
      "Iteration 298, loss = 0.00647010\n",
      "Iteration 299, loss = 0.00638084\n",
      "Iteration 300, loss = 0.00633729\n",
      "Iteration 301, loss = 0.00628436\n",
      "Training loss did not improve more than tol=0.000100 for 10 consecutive epochs. Stopping.\n"
     ]
    },
    {
     "data": {
      "text/plain": "MLPClassifier(hidden_layer_sizes=(512, 512, 64), max_iter=500, verbose=2)"
     },
     "execution_count": 40,
     "metadata": {},
     "output_type": "execute_result"
    }
   ],
   "source": [
    "from sklearn.neural_network import MLPClassifier\n",
    "\n",
    "clf = MLPClassifier(hidden_layer_sizes=(512, 512, 64), verbose=2, max_iter=500)\n",
    "clf.fit(X_train, y_train)"
   ],
   "metadata": {
    "collapsed": false,
    "pycharm": {
     "name": "#%%\n"
    }
   }
  },
  {
   "cell_type": "markdown",
   "source": [
    "# MLP Classifier report and analysis"
   ],
   "metadata": {
    "collapsed": false
   }
  },
  {
   "cell_type": "code",
   "execution_count": 41,
   "outputs": [
    {
     "name": "stdout",
     "output_type": "stream",
     "text": [
      "-----------------MLP Classifier Report---------------\n",
      "F1 score: 0.2535845676284849\n",
      "Accuracy score: 0.24783362218370883\n",
      "Confusion matrix for random 10 classes: \n",
      " [[0 0 0 0 0 0 0 0 0 0 0 0 0 0 0 0 0]\n",
      " [1 0 0 0 0 0 0 0 0 0 0 0 0 0 0 0 0]\n",
      " [0 0 0 0 0 0 0 0 0 0 0 0 0 0 0 0 0]\n",
      " [0 0 0 0 0 0 0 0 0 0 0 0 0 0 0 0 0]\n",
      " [0 0 0 0 0 0 0 0 0 0 0 0 0 0 0 0 0]\n",
      " [0 0 0 0 0 0 0 0 0 0 0 0 0 0 0 0 0]\n",
      " [0 0 0 0 0 0 0 0 0 0 0 0 0 0 0 0 0]\n",
      " [0 0 0 0 0 0 1 0 0 0 0 0 0 0 0 0 0]\n",
      " [0 0 0 0 0 0 0 0 1 0 0 0 0 0 0 0 0]\n",
      " [0 0 1 0 0 0 0 0 0 0 0 0 0 0 0 0 0]\n",
      " [0 0 0 0 0 1 0 0 0 0 0 0 0 0 0 0 0]\n",
      " [0 0 0 0 0 0 0 0 0 0 0 0 0 0 0 0 0]\n",
      " [0 0 0 0 0 0 0 0 1 0 0 0 0 0 0 0 0]\n",
      " [0 0 0 0 1 0 0 0 0 0 0 0 0 0 0 0 0]\n",
      " [0 0 0 1 0 0 0 0 0 0 0 0 0 0 0 0 0]\n",
      " [0 0 0 0 0 0 0 0 0 0 0 0 0 0 0 1 0]\n",
      " [0 0 0 0 0 0 0 0 0 0 0 1 0 0 0 0 0]]\n",
      "Plotting confusion matrix for random 10 classes\n"
     ]
    },
    {
     "data": {
      "text/plain": "<Figure size 432x288 with 2 Axes>",
      "image/png": "[encoded data removed]"
     },
     "metadata": {
      "needs_background": "light"
     },
     "output_type": "display_data"
    },
    {
     "name": "stdout",
     "output_type": "stream",
     "text": [
      "              precision    recall  f1-score   support\n",
      "\n",
      "           0       0.29      0.29      0.29        14\n",
      "           1       0.00      0.00      0.00        10\n",
      "           2       0.38      0.38      0.38         8\n",
      "           3       0.00      0.00      0.00         3\n",
      "           4       0.29      0.12      0.17        17\n",
      "           5       0.33      0.25      0.29        12\n",
      "           6       0.36      0.50      0.42        10\n",
      "           7       0.27      0.29      0.28        14\n",
      "           8       0.25      0.25      0.25         8\n",
      "           9       0.29      0.15      0.20        13\n",
      "          10       0.08      0.10      0.09        10\n",
      "          11       0.42      0.29      0.34        17\n",
      "          12       0.36      0.31      0.33        13\n",
      "          13       0.25      0.30      0.27        10\n",
      "          14       0.25      0.38      0.30         8\n",
      "          15       0.71      0.31      0.43        16\n",
      "          16       0.42      0.50      0.45        10\n",
      "          17       0.33      0.29      0.31        14\n",
      "          18       0.25      0.17      0.20        12\n",
      "          19       0.20      0.16      0.18        19\n",
      "          20       0.27      0.40      0.32        10\n",
      "          21       0.19      0.22      0.21        18\n",
      "          22       0.56      0.64      0.60        14\n",
      "          23       0.00      0.00      0.00        12\n",
      "          24       0.29      0.18      0.22        22\n",
      "          25       0.32      0.35      0.33        20\n",
      "          26       0.00      0.00      0.00         1\n",
      "          27       0.07      0.11      0.09         9\n",
      "          28       0.19      0.27      0.22        11\n",
      "          29       0.50      0.73      0.59        11\n",
      "          30       0.43      0.75      0.55         4\n",
      "          31       0.17      0.08      0.11        13\n",
      "          32       0.11      0.14      0.12         7\n",
      "          33       0.25      0.23      0.24        13\n",
      "          34       0.08      0.09      0.08        11\n",
      "          35       0.27      0.23      0.25        13\n",
      "          36       0.29      0.20      0.24        10\n",
      "          37       0.18      0.17      0.17        12\n",
      "          38       0.22      0.25      0.24         8\n",
      "          39       0.27      0.27      0.27        11\n",
      "          40       0.29      0.31      0.30        13\n",
      "          41       0.00      0.00      0.00         9\n",
      "          42       0.20      0.18      0.19        11\n",
      "          43       0.22      0.22      0.22         9\n",
      "          44       0.60      0.23      0.33        13\n",
      "          45       0.20      0.19      0.19        16\n",
      "          46       0.36      0.27      0.31        15\n",
      "          47       0.57      0.33      0.42        12\n",
      "          48       0.00      0.00      0.00         4\n",
      "          49       0.00      0.00      0.00         7\n",
      "\n",
      "    accuracy                           0.25       577\n",
      "   macro avg       0.26      0.24      0.24       577\n",
      "weighted avg       0.28      0.25      0.25       577\n",
      "\n"
     ]
    }
   ],
   "source": [
    "y_pred_mlp = clf.predict(X_val)\n",
    "mlp_f1 = metrics.f1_score(y_val, y_pred_mlp, average= \"weighted\")\n",
    "mlp_accuracy = metrics.accuracy_score(y_val, y_pred_mlp)\n",
    "mlp_cm = metrics.confusion_matrix(y_val[:10], y_pred_mlp[:10])\n",
    "print(\"-----------------MLP Classifier Report---------------\")\n",
    "print(\"F1 score: {}\".format(mlp_f1))\n",
    "print(\"Accuracy score: {}\".format(mlp_accuracy))\n",
    "print(\"Confusion matrix for random 10 classes: \\n\", mlp_cm)\n",
    "print('Plotting confusion matrix for random 10 classes')\n",
    "\n",
    "plt.figure()\n",
    "plot_confusion_matrix(mlp_cm[:10], y_val[:10])\n",
    "plt.show()\n",
    "\n",
    "print(metrics.classification_report(y_val, y_pred_mlp))\n"
   ],
   "metadata": {
    "collapsed": false,
    "pycharm": {
     "name": "#%%\n"
    }
   }
  }
 ],
 "metadata": {
  "kernelspec": {
   "display_name": "Python 3",
   "language": "python",
   "name": "python3"
  },
  "language_info": {
   "codemirror_mode": {
    "name": "ipython",
    "version": 2
   },
   "file_extension": ".py",
   "mimetype": "text/x-python",
   "name": "python",
   "nbconvert_exporter": "python",
   "pygments_lexer": "ipython2",
   "version": "2.7.6"
  }
 },
 "nbformat": 4,
 "nbformat_minor": 0
}