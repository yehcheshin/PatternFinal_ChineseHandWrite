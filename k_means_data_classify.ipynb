{
 "cells": [
  {
   "cell_type": "code",
   "execution_count": 1,
   "metadata": {},
   "outputs": [],
   "source": [
    "import os\n",
    "import numpy as np\n",
    "from PIL import Image\n",
    "from sklearn import metrics\n",
    "from sklearn import preprocessing\n",
    "from sklearn.model_selection import train_test_split\n",
    "from sklearn.model_selection import GridSearchCV\n",
    "import matplotlib.pyplot as plt\n",
    "import torchvision.transforms as transforms\n",
    "%matplotlib inline"
   ]
  },
  {
   "cell_type": "code",
   "execution_count": 2,
   "metadata": {
    "pycharm": {
     "name": "#%%\n"
    }
   },
   "outputs": [],
   "source": [
    "root = './k_mean_data/'"
   ]
  },
  {
   "cell_type": "markdown",
   "metadata": {},
   "source": [
    "# Image Denoise"
   ]
  },
  {
   "cell_type": "code",
   "execution_count": 3,
   "metadata": {
    "pycharm": {
     "name": "#%%\n"
    }
   },
   "outputs": [],
   "source": [
    "def get_bin_table(threshold=128):\n",
    "    table = []\n",
    "    for i in range(256):\n",
    "        if i < threshold:\n",
    "            table.append(0)\n",
    "        else:\n",
    "            table.append(1)\n",
    "    return table\n",
    "\n",
    "def remove_noise_pixel(img, noise_point_list):\n",
    "    for item in noise_point_list:\n",
    "        img.putpixel((item[0], item[1]), 1)\n",
    "\n",
    "def collect_noise_point(img):\n",
    "    noise_point_list = []\n",
    "    for x in range(img.width):\n",
    "        for y in range(img.height):\n",
    "            res_9 = sum_9_region_new(img, x, y)\n",
    "            if (0 < res_9 < 3) and img.getpixel((x, y)) == 0:\n",
    "                pos = (x, y)\n",
    "                noise_point_list.append(pos)\n",
    "    return noise_point_list\n",
    "\n",
    "def sum_9_region_new(img, x, y):\n",
    "    cur_pixel = img.getpixel((x, y))\n",
    "    width = img.width\n",
    "    height = img.height\n",
    "    if cur_pixel == 1:\n",
    "        return 0\n",
    "    if y < 3:\n",
    "        return 1\n",
    "    elif y > height - 3:\n",
    "        return 1\n",
    "    else:\n",
    "        if x < 3:\n",
    "            return 1\n",
    "        elif x == width - 1:\n",
    "            return 1\n",
    "        else:\n",
    "            sum = img.getpixel((x - 1, y - 1)) \\\n",
    "                  + img.getpixel((x - 1, y)) \\\n",
    "                  + img.getpixel((x - 1, y + 1)) \\\n",
    "                  + img.getpixel((x, y - 1)) \\\n",
    "                  + cur_pixel \\\n",
    "                  + img.getpixel((x, y + 1)) \\\n",
    "                  + img.getpixel((x + 1, y - 1)) \\\n",
    "                  + img.getpixel((x + 1, y)) \\\n",
    "                  + img.getpixel((x + 1, y + 1))\n",
    "            return 9 - sum\n"
   ]
  },
  {
   "cell_type": "code",
   "execution_count": 4,
   "metadata": {
    "pycharm": {
     "name": "#%%\n"
    }
   },
   "outputs": [],
   "source": [
    "def plot_confusion_matrix(cm, names, title='Confusion matrix', cmap=plt.cm.Blues):\n",
    "    plt.imshow(cm, interpolation='nearest', cmap=cmap)\n",
    "    plt.title(title)\n",
    "    plt.colorbar()\n",
    "    tick_marks = np.arange(len(names))\n",
    "    plt.xticks(tick_marks, names, rotation=90)\n",
    "    plt.yticks(tick_marks, names)\n",
    "    plt.tight_layout()\n",
    "    plt.ylabel('True label')\n",
    "    plt.xlabel('Predicted label')"
   ]
  },
  {
   "cell_type": "markdown",
   "metadata": {
    "pycharm": {
     "name": "#%% md\n"
    }
   },
   "source": [
    "# Get label"
   ]
  },
  {
   "cell_type": "code",
   "execution_count": 5,
   "metadata": {
    "pycharm": {
     "name": "#%%\n"
    }
   },
   "outputs": [],
   "source": [
    "label_list = {}\n",
    "\n",
    "f = open('training data dic.txt', 'r', encoding=\"utf-8\")\n",
    "for idx, line in enumerate(f.readlines()):\n",
    "    if idx == 50:\n",
    "        break\n",
    "    label_list[line[0]] = idx"
   ]
  },
  {
   "cell_type": "markdown",
   "metadata": {},
   "source": [
    "# Load data"
   ]
  },
  {
   "cell_type": "code",
   "execution_count": 6,
   "metadata": {
    "pycharm": {
     "name": "#%%\n"
    }
   },
   "outputs": [],
   "source": [
    "is_denoise = False\n",
    "transform = transforms.Compose([\n",
    "    transforms.RandomAffine(degrees=(-10, 10), translate=(0.1, 0.1), fill=255),\n",
    "    transforms.ColorJitter(brightness=(0.5, 1.5), contrast=(0.8, 1)),\n",
    "])\n",
    "is_augment = True\n",
    "data = []\n",
    "files = []\n",
    "labels = []\n",
    "binary = None"
   ]
  },
  {
   "cell_type": "code",
   "execution_count": 7,
   "metadata": {},
   "outputs": [
    {
     "data": {
      "text/plain": "<PIL.Image.Image image mode=L size=64x64 at 0x20651D5FFD0>",
      "image/png": "[encoded data removed]"
     },
     "execution_count": 7,
     "metadata": {},
     "output_type": "execute_result"
    }
   ],
   "source": [
    "for idx, dir_ in enumerate(os.listdir(root)):\n",
    "    for _, file in enumerate(os.listdir(root + '/' + dir_)):\n",
    "        img_path = root + dir_ + '/' + file\n",
    "        img = Image.open(img_path)\n",
    "        img = img.resize((64, 64))\n",
    "        if is_augment:\n",
    "            #print(label_list[file[-5:-4]])\n",
    "            random_rotate = transforms.RandomRotation(degrees=(-10, 10), fill=255)\n",
    "            trans_img = random_rotate(img)\n",
    "            im = np.array(trans_img).reshape(-1)\n",
    "            data.append(im)\n",
    "            files.append(img_path)\n",
    "            labels.append(label_list[file[-5:-4]])\n",
    "\n",
    "            random_translate = transforms.RandomAffine(degrees=(0, 0), translate=(0.1, 0.1), fill=255)\n",
    "            trans_img = random_translate(img)\n",
    "            im = np.array(trans_img).reshape(-1)\n",
    "            data.append(im)\n",
    "            files.append(img_path)\n",
    "            labels.append(label_list[file[-5:-4]])\n",
    "\n",
    "            random_colorjitter = transforms.ColorJitter(brightness=(0.5, 1.5), contrast=(0.8, 1))\n",
    "            trans_img = random_colorjitter(img)\n",
    "            im = np.array(trans_img).reshape(-1)\n",
    "            data.append(im)\n",
    "            files.append(img_path)\n",
    "            labels.append(label_list[file[-5:-4]])\n",
    "\n",
    "            trans_img = transform(img)\n",
    "            im = np.array(trans_img).reshape(-1)\n",
    "            data.append(im)\n",
    "            files.append(img_path)\n",
    "            labels.append(label_list[file[-5:-4]])\n",
    "\n",
    "        im = np.array(img).reshape(-1)\n",
    "        if is_denoise:\n",
    "            table = get_bin_table(np.mean(im))\n",
    "            binary = img.point(table, '1')\n",
    "            noise_point_list = collect_noise_point(binary)\n",
    "            remove_noise_pixel(binary, noise_point_list)\n",
    "            im = np.array(binary).reshape(-1)\n",
    "        data.append(im)\n",
    "        files.append(img_path)\n",
    "        labels.append(label_list[file[-5:-4]])\n",
    "data = np.array(data)\n",
    "img"
   ]
  },
  {
   "cell_type": "code",
   "execution_count": 10,
   "metadata": {
    "pycharm": {
     "name": "#%%\n"
    }
   },
   "outputs": [
    {
     "data": {
      "text/plain": "<PIL.Image.Image image mode=L size=64x64 at 0x17ADC226820>",
      "image/png": "[encoded data removed]"
     },
     "execution_count": 10,
     "metadata": {},
     "output_type": "execute_result"
    }
   ],
   "source": [
    "random_rotate = transforms.RandomRotation(degrees=(-10, 10), fill=255)\n",
    "trans_img = random_rotate(img)\n",
    "trans_img"
   ]
  },
  {
   "cell_type": "code",
   "execution_count": 12,
   "metadata": {
    "pycharm": {
     "name": "#%%\n"
    }
   },
   "outputs": [
    {
     "data": {
      "text/plain": "<PIL.Image.Image image mode=L size=64x64 at 0x17ADC226A60>",
      "image/png": "[encoded data removed]"
     },
     "execution_count": 12,
     "metadata": {},
     "output_type": "execute_result"
    }
   ],
   "source": [
    "random_translate = transforms.RandomAffine(degrees=(0, 0), translate=(0.1, 0.1), fill=255)\n",
    "trans_img = random_translate(img)\n",
    "trans_img"
   ]
  },
  {
   "cell_type": "code",
   "execution_count": 13,
   "metadata": {
    "pycharm": {
     "name": "#%%\n"
    }
   },
   "outputs": [
    {
     "data": {
      "text/plain": "<PIL.Image.Image image mode=L size=64x64 at 0x17AB750ECD0>",
      "image/png": "[encoded data removed]"
     },
     "execution_count": 13,
     "metadata": {},
     "output_type": "execute_result"
    }
   ],
   "source": [
    "random_colorjitter = transforms.ColorJitter(brightness=(0.5, 1.5), contrast=(0.8, 1))\n",
    "trans_img = random_colorjitter(img)\n",
    "trans_img"
   ]
  },
  {
   "cell_type": "code",
   "execution_count": 14,
   "metadata": {
    "pycharm": {
     "name": "#%%\n"
    }
   },
   "outputs": [
    {
     "data": {
      "text/plain": "<PIL.Image.Image image mode=L size=64x64 at 0x17ADC2268E0>",
      "image/png": "[encoded data removed]"
     },
     "execution_count": 14,
     "metadata": {},
     "output_type": "execute_result"
    }
   ],
   "source": [
    "trans_img = transform(img)\n",
    "trans_img"
   ]
  },
  {
   "cell_type": "code",
   "execution_count": 15,
   "metadata": {
    "pycharm": {
     "name": "#%%\n"
    }
   },
   "outputs": [
    {
     "name": "stdout",
     "output_type": "stream",
     "text": [
      "(14405, 4096)\n"
     ]
    },
    {
     "data": {
      "text/plain": "14405"
     },
     "execution_count": 15,
     "metadata": {},
     "output_type": "execute_result"
    }
   ],
   "source": [
    "print(data.shape)\n",
    "len(labels)"
   ]
  },
  {
   "cell_type": "markdown",
   "metadata": {
    "pycharm": {
     "name": "#%% md\n"
    }
   },
   "source": [
    "# Normalize data"
   ]
  },
  {
   "cell_type": "code",
   "execution_count": 8,
   "metadata": {
    "pycharm": {
     "name": "#%%\n"
    }
   },
   "outputs": [
    {
     "name": "stdout",
     "output_type": "stream",
     "text": [
      "[0.01753091 0.01753091 0.01753091 ... 0.01753091 0.01753091 0.01753091]\n"
     ]
    }
   ],
   "source": [
    "nor_data = preprocessing.normalize(data)\n",
    "print(nor_data[0])"
   ]
  },
  {
   "cell_type": "code",
   "execution_count": 9,
   "outputs": [],
   "source": [
    "test_root = './test_data/'\n",
    "X_test = []\n",
    "y_test = []\n",
    "for _, file in enumerate(os.listdir(test_root)):\n",
    "    img_path = test_root + file\n",
    "    img = Image.open(img_path).convert('L')\n",
    "    img = img.resize((64, 64))\n",
    "    img_data = np.array(img).reshape(-1)\n",
    "    X_test.append(img_data)\n",
    "    y_test.append(label_list[file[-5:-4]])\n",
    "X_test = np.array(X_test)\n",
    "y_test = np.array(y_test)\n",
    "test_nor_data = preprocessing.normalize(X_test)"
   ],
   "metadata": {
    "collapsed": false,
    "pycharm": {
     "name": "#%%\n"
    }
   }
  },
  {
   "cell_type": "markdown",
   "metadata": {},
   "source": [
    "# Dimension reduce with PCA\n"
   ]
  },
  {
   "cell_type": "code",
   "execution_count": 10,
   "metadata": {
    "pycharm": {
     "name": "#%%\n"
    }
   },
   "outputs": [
    {
     "name": "stdout",
     "output_type": "stream",
     "text": [
      "(14405, 192)\n",
      "(30, 192)\n",
      "0.012882573929380643\n"
     ]
    }
   ],
   "source": [
    "from sklearn.decomposition import PCA\n",
    "is_reduce_dim = True\n",
    "if is_reduce_dim:\n",
    "    pca = PCA(n_components=0.8, random_state=0)\n",
    "    pca.fit(nor_data)\n",
    "    nor_data = pca.transform(nor_data)\n",
    "    print(nor_data.shape)\n",
    "\n",
    "    test_nor_data = pca.transform(test_nor_data)\n",
    "    print(test_nor_data.shape)\n",
    "    print(test_nor_data[0][0])"
   ]
  },
  {
   "cell_type": "markdown",
   "source": [
    "# Save the PCA Data"
   ],
   "metadata": {
    "collapsed": false,
    "pycharm": {
     "name": "#%% md\n"
    }
   }
  },
  {
   "cell_type": "code",
   "execution_count": 16,
   "outputs": [
    {
     "name": "stdout",
     "output_type": "stream",
     "text": [
      "(14405, 192)\n",
      "(14405, 192)\n",
      "(14405,)\n",
      "(14405,)\n"
     ]
    }
   ],
   "source": [
    "if is_reduce_dim:\n",
    "    np.save('k_means_data_pca', nor_data)\n",
    "    print(nor_data.shape)\n",
    "    nor_data = np.load('k_means_data_pca.npy')\n",
    "    print(nor_data.shape)\n",
    "\n",
    "    labels = np.array(labels)\n",
    "    np.save('k_means_labels_pca', labels)\n",
    "    print(labels.shape)\n",
    "    labels = np.load('k_means_labels_pca.npy')\n",
    "    print(labels.shape)"
   ],
   "metadata": {
    "collapsed": false,
    "pycharm": {
     "name": "#%%\n"
    }
   }
  },
  {
   "cell_type": "code",
   "execution_count": 11,
   "outputs": [
    {
     "name": "stdout",
     "output_type": "stream",
     "text": [
      "(30, 192)\n",
      "0.012882573929380643\n",
      "(30,)\n",
      "(30,)\n",
      "38\n"
     ]
    }
   ],
   "source": [
    "if is_reduce_dim:\n",
    "    np.save('test_data_pca', test_nor_data)\n",
    "    test_nor_data = np.load('test_data_pca.npy')\n",
    "    print(test_nor_data.shape)\n",
    "    print(test_nor_data[0][0])\n",
    "\n",
    "    print(y_test.shape)\n",
    "    np.save('test_label_pca', y_test)\n",
    "    y_test = np.load('test_label_pca.npy')\n",
    "    print(y_test.shape)\n",
    "    print(y_test[0])"
   ],
   "metadata": {
    "collapsed": false,
    "pycharm": {
     "name": "#%%\n"
    }
   }
  },
  {
   "cell_type": "markdown",
   "metadata": {},
   "source": [
    "# Split training set and validation set"
   ]
  },
  {
   "cell_type": "code",
   "execution_count": 17,
   "metadata": {
    "pycharm": {
     "name": "#%%\n"
    }
   },
   "outputs": [
    {
     "name": "stdout",
     "output_type": "stream",
     "text": [
      "(11524, 4096)\n",
      "(2881, 4096)\n",
      "11524\n",
      "2881\n"
     ]
    }
   ],
   "source": [
    "X_train, X_val, y_train, y_val = train_test_split(nor_data, labels, test_size=0.2, random_state=0)\n",
    "print(X_train.shape)\n",
    "print(X_val.shape)\n",
    "print(len(y_train))\n",
    "print(len(y_val))"
   ]
  },
  {
   "cell_type": "markdown",
   "metadata": {
    "pycharm": {
     "name": "#%% md\n"
    }
   },
   "source": [
    "# K-nearest neighbors Classifier"
   ]
  },
  {
   "cell_type": "code",
   "execution_count": 14,
   "metadata": {
    "pycharm": {
     "name": "#%%\n"
    }
   },
   "outputs": [
    {
     "name": "stdout",
     "output_type": "stream",
     "text": [
      "Evaluation: 1 n_neighbor\n",
      "F1 score: 0.6363766146776364\n",
      "Accuracy score: 0.623741756334606\n"
     ]
    },
    {
     "name": "stderr",
     "output_type": "stream",
     "text": [
      "c:\\users\\zxcz1\\appdata\\local\\programs\\python\\python38\\lib\\site-packages\\sklearn\\metrics\\_classification.py:1221: UndefinedMetricWarning: Precision and F-score are ill-defined and being set to 0.0 in labels with no predicted samples. Use `zero_division` parameter to control this behavior.\n",
      "  _warn_prf(average, modifier, msg_start, len(result))\n",
      "c:\\users\\zxcz1\\appdata\\local\\programs\\python\\python38\\lib\\site-packages\\sklearn\\metrics\\_classification.py:1221: UndefinedMetricWarning: Recall and F-score are ill-defined and being set to 0.0 in labels with no true samples. Use `zero_division` parameter to control this behavior.\n",
      "  _warn_prf(average, modifier, msg_start, len(result))\n"
     ]
    },
    {
     "name": "stdout",
     "output_type": "stream",
     "text": [
      "              precision    recall  f1-score   support\n",
      "\n",
      "           1       1.00      1.00      1.00         1\n",
      "           2       0.00      0.00      0.00         1\n",
      "          10       0.00      0.00      0.00         0\n",
      "          22       0.00      0.00      0.00         0\n",
      "          25       0.00      0.00      0.00         1\n",
      "          26       1.00      1.00      1.00         1\n",
      "          28       0.00      0.00      0.00         1\n",
      "          29       1.00      1.00      1.00         1\n",
      "          30       0.00      0.00      0.00         0\n",
      "          31       0.00      0.00      0.00         1\n",
      "          34       0.00      0.00      0.00         1\n",
      "          35       0.00      0.00      0.00         0\n",
      "          40       0.00      0.00      0.00         0\n",
      "          41       0.00      0.00      0.00         1\n",
      "          42       0.00      0.00      0.00         0\n",
      "          44       0.00      0.00      0.00         0\n",
      "          45       0.00      0.00      0.00         1\n",
      "\n",
      "    accuracy                           0.30        10\n",
      "   macro avg       0.18      0.18      0.18        10\n",
      "weighted avg       0.30      0.30      0.30        10\n",
      "\n",
      "Evaluation: 5 n_neighbor\n",
      "F1 score: 0.6034380787870328\n",
      "Accuracy score: 0.5841721624435959\n",
      "              precision    recall  f1-score   support\n",
      "\n",
      "           1       1.00      1.00      1.00         1\n",
      "           2       0.00      0.00      0.00         1\n",
      "          10       0.00      0.00      0.00         0\n",
      "          22       0.00      0.00      0.00         0\n",
      "          23       0.00      0.00      0.00         0\n",
      "          25       0.00      0.00      0.00         1\n",
      "          26       1.00      1.00      1.00         1\n",
      "          28       0.00      0.00      0.00         1\n",
      "          29       1.00      1.00      1.00         1\n",
      "          30       0.00      0.00      0.00         0\n",
      "          31       0.00      0.00      0.00         1\n",
      "          34       0.00      0.00      0.00         1\n",
      "          35       0.00      0.00      0.00         0\n",
      "          40       0.00      0.00      0.00         0\n",
      "          41       0.00      0.00      0.00         1\n",
      "          42       0.00      0.00      0.00         0\n",
      "          45       0.00      0.00      0.00         1\n",
      "\n",
      "    accuracy                           0.30        10\n",
      "   macro avg       0.18      0.18      0.18        10\n",
      "weighted avg       0.30      0.30      0.30        10\n",
      "\n"
     ]
    },
    {
     "name": "stderr",
     "output_type": "stream",
     "text": [
      "c:\\users\\zxcz1\\appdata\\local\\programs\\python\\python38\\lib\\site-packages\\sklearn\\metrics\\_classification.py:1221: UndefinedMetricWarning: Precision and F-score are ill-defined and being set to 0.0 in labels with no predicted samples. Use `zero_division` parameter to control this behavior.\n",
      "  _warn_prf(average, modifier, msg_start, len(result))\n",
      "c:\\users\\zxcz1\\appdata\\local\\programs\\python\\python38\\lib\\site-packages\\sklearn\\metrics\\_classification.py:1221: UndefinedMetricWarning: Recall and F-score are ill-defined and being set to 0.0 in labels with no true samples. Use `zero_division` parameter to control this behavior.\n",
      "  _warn_prf(average, modifier, msg_start, len(result))\n"
     ]
    },
    {
     "name": "stdout",
     "output_type": "stream",
     "text": [
      "Evaluation:"
     ]
    },
    {
     "ename": "KeyboardInterrupt",
     "evalue": "",
     "output_type": "error",
     "traceback": [
      "\u001B[1;31m---------------------------------------------------------------------------\u001B[0m",
      "\u001B[1;31mKeyboardInterrupt\u001B[0m                         Traceback (most recent call last)",
      "    \u001B[1;31m[... skipping hidden 1 frame]\u001B[0m\n",
      "\u001B[1;32m<ipython-input-14-502aa54e8ca3>\u001B[0m in \u001B[0;36m<module>\u001B[1;34m\u001B[0m\n\u001B[0;32m      6\u001B[0m     \u001B[0mknn\u001B[0m\u001B[1;33m.\u001B[0m\u001B[0mfit\u001B[0m\u001B[1;33m(\u001B[0m\u001B[0mX_train\u001B[0m\u001B[1;33m,\u001B[0m \u001B[0my_train\u001B[0m\u001B[1;33m)\u001B[0m\u001B[1;33m\u001B[0m\u001B[1;33m\u001B[0m\u001B[0m\n\u001B[1;32m----> 7\u001B[1;33m     \u001B[0mprint\u001B[0m\u001B[1;33m(\u001B[0m\u001B[1;34m\"Evaluation:\"\u001B[0m\u001B[1;33m,\u001B[0m \u001B[0mn_neighbor\u001B[0m\u001B[1;33m,\u001B[0m \u001B[1;34m\"n_neighbor\"\u001B[0m\u001B[1;33m)\u001B[0m\u001B[1;33m\u001B[0m\u001B[1;33m\u001B[0m\u001B[0m\n\u001B[0m\u001B[0;32m      8\u001B[0m     \u001B[0my_pred\u001B[0m \u001B[1;33m=\u001B[0m \u001B[0mknn\u001B[0m\u001B[1;33m.\u001B[0m\u001B[0mpredict\u001B[0m\u001B[1;33m(\u001B[0m\u001B[0mX_val\u001B[0m\u001B[1;33m)\u001B[0m\u001B[1;33m\u001B[0m\u001B[1;33m\u001B[0m\u001B[0m\n",
      "\u001B[1;32mc:\\users\\zxcz1\\appdata\\local\\programs\\python\\python38\\lib\\site-packages\\ipykernel\\iostream.py\u001B[0m in \u001B[0;36mwrite\u001B[1;34m(self, string)\u001B[0m\n\u001B[0;32m    413\u001B[0m             \u001B[1;32melse\u001B[0m\u001B[1;33m:\u001B[0m\u001B[1;33m\u001B[0m\u001B[1;33m\u001B[0m\u001B[0m\n\u001B[1;32m--> 414\u001B[1;33m                 \u001B[0mself\u001B[0m\u001B[1;33m.\u001B[0m\u001B[0m_schedule_flush\u001B[0m\u001B[1;33m(\u001B[0m\u001B[1;33m)\u001B[0m\u001B[1;33m\u001B[0m\u001B[1;33m\u001B[0m\u001B[0m\n\u001B[0m\u001B[0;32m    415\u001B[0m \u001B[1;33m\u001B[0m\u001B[0m\n",
      "\u001B[1;32mc:\\users\\zxcz1\\appdata\\local\\programs\\python\\python38\\lib\\site-packages\\ipykernel\\iostream.py\u001B[0m in \u001B[0;36m_schedule_flush\u001B[1;34m(self)\u001B[0m\n\u001B[0;32m    334\u001B[0m             \u001B[0mself\u001B[0m\u001B[1;33m.\u001B[0m\u001B[0m_io_loop\u001B[0m\u001B[1;33m.\u001B[0m\u001B[0mcall_later\u001B[0m\u001B[1;33m(\u001B[0m\u001B[0mself\u001B[0m\u001B[1;33m.\u001B[0m\u001B[0mflush_interval\u001B[0m\u001B[1;33m,\u001B[0m \u001B[0mself\u001B[0m\u001B[1;33m.\u001B[0m\u001B[0m_flush\u001B[0m\u001B[1;33m)\u001B[0m\u001B[1;33m\u001B[0m\u001B[1;33m\u001B[0m\u001B[0m\n\u001B[1;32m--> 335\u001B[1;33m         \u001B[0mself\u001B[0m\u001B[1;33m.\u001B[0m\u001B[0mpub_thread\u001B[0m\u001B[1;33m.\u001B[0m\u001B[0mschedule\u001B[0m\u001B[1;33m(\u001B[0m\u001B[0m_schedule_in_thread\u001B[0m\u001B[1;33m)\u001B[0m\u001B[1;33m\u001B[0m\u001B[1;33m\u001B[0m\u001B[0m\n\u001B[0m\u001B[0;32m    336\u001B[0m \u001B[1;33m\u001B[0m\u001B[0m\n",
      "\u001B[1;32mc:\\users\\zxcz1\\appdata\\local\\programs\\python\\python38\\lib\\site-packages\\ipykernel\\iostream.py\u001B[0m in \u001B[0;36mschedule\u001B[1;34m(self, f)\u001B[0m\n\u001B[0;32m    204\u001B[0m             \u001B[1;31m# wake event thread (message content is ignored)\u001B[0m\u001B[1;33m\u001B[0m\u001B[1;33m\u001B[0m\u001B[1;33m\u001B[0m\u001B[0m\n\u001B[1;32m--> 205\u001B[1;33m             \u001B[0mself\u001B[0m\u001B[1;33m.\u001B[0m\u001B[0m_event_pipe\u001B[0m\u001B[1;33m.\u001B[0m\u001B[0msend\u001B[0m\u001B[1;33m(\u001B[0m\u001B[1;34mb''\u001B[0m\u001B[1;33m)\u001B[0m\u001B[1;33m\u001B[0m\u001B[1;33m\u001B[0m\u001B[0m\n\u001B[0m\u001B[0;32m    206\u001B[0m         \u001B[1;32melse\u001B[0m\u001B[1;33m:\u001B[0m\u001B[1;33m\u001B[0m\u001B[1;33m\u001B[0m\u001B[0m\n",
      "\u001B[1;32mc:\\users\\zxcz1\\appdata\\local\\programs\\python\\python38\\lib\\site-packages\\zmq\\sugar\\socket.py\u001B[0m in \u001B[0;36msend\u001B[1;34m(self, data, flags, copy, track, routing_id, group)\u001B[0m\n\u001B[0;32m    415\u001B[0m             \u001B[0mdata\u001B[0m\u001B[1;33m.\u001B[0m\u001B[0mgroup\u001B[0m \u001B[1;33m=\u001B[0m \u001B[0mgroup\u001B[0m\u001B[1;33m\u001B[0m\u001B[1;33m\u001B[0m\u001B[0m\n\u001B[1;32m--> 416\u001B[1;33m         \u001B[1;32mreturn\u001B[0m \u001B[0msuper\u001B[0m\u001B[1;33m(\u001B[0m\u001B[0mSocket\u001B[0m\u001B[1;33m,\u001B[0m \u001B[0mself\u001B[0m\u001B[1;33m)\u001B[0m\u001B[1;33m.\u001B[0m\u001B[0msend\u001B[0m\u001B[1;33m(\u001B[0m\u001B[0mdata\u001B[0m\u001B[1;33m,\u001B[0m \u001B[0mflags\u001B[0m\u001B[1;33m=\u001B[0m\u001B[0mflags\u001B[0m\u001B[1;33m,\u001B[0m \u001B[0mcopy\u001B[0m\u001B[1;33m=\u001B[0m\u001B[0mcopy\u001B[0m\u001B[1;33m,\u001B[0m \u001B[0mtrack\u001B[0m\u001B[1;33m=\u001B[0m\u001B[0mtrack\u001B[0m\u001B[1;33m)\u001B[0m\u001B[1;33m\u001B[0m\u001B[1;33m\u001B[0m\u001B[0m\n\u001B[0m\u001B[0;32m    417\u001B[0m \u001B[1;33m\u001B[0m\u001B[0m\n",
      "\u001B[1;32mzmq\\backend\\cython\\socket.pyx\u001B[0m in \u001B[0;36mzmq.backend.cython.socket.Socket.send\u001B[1;34m()\u001B[0m\n",
      "\u001B[1;32mzmq\\backend\\cython\\socket.pyx\u001B[0m in \u001B[0;36mzmq.backend.cython.socket.Socket.send\u001B[1;34m()\u001B[0m\n",
      "\u001B[1;32mzmq\\backend\\cython\\socket.pyx\u001B[0m in \u001B[0;36mzmq.backend.cython.socket._send_copy\u001B[1;34m()\u001B[0m\n",
      "\u001B[1;32mc:\\users\\zxcz1\\appdata\\local\\programs\\python\\python38\\lib\\site-packages\\zmq\\backend\\cython\\checkrc.pxd\u001B[0m in \u001B[0;36mzmq.backend.cython.checkrc._check_rc\u001B[1;34m()\u001B[0m\n",
      "\u001B[1;31mKeyboardInterrupt\u001B[0m: ",
      "\nDuring handling of the above exception, another exception occurred:\n",
      "\u001B[1;31mKeyboardInterrupt\u001B[0m                         Traceback (most recent call last)",
      "\u001B[1;32mc:\\users\\zxcz1\\appdata\\local\\programs\\python\\python38\\lib\\site-packages\\IPython\\core\\interactiveshell.py\u001B[0m in \u001B[0;36mrun_code\u001B[1;34m(self, code_obj, result, async_)\u001B[0m\n\u001B[0;32m   3425\u001B[0m             \u001B[0mself\u001B[0m\u001B[1;33m.\u001B[0m\u001B[0mshowtraceback\u001B[0m\u001B[1;33m(\u001B[0m\u001B[0mexception_only\u001B[0m\u001B[1;33m=\u001B[0m\u001B[1;32mTrue\u001B[0m\u001B[1;33m)\u001B[0m\u001B[1;33m\u001B[0m\u001B[1;33m\u001B[0m\u001B[0m\n\u001B[0;32m   3426\u001B[0m             \u001B[0mwarn\u001B[0m\u001B[1;33m(\u001B[0m\u001B[1;34m\"To exit: use 'exit', 'quit', or Ctrl-D.\"\u001B[0m\u001B[1;33m,\u001B[0m \u001B[0mstacklevel\u001B[0m\u001B[1;33m=\u001B[0m\u001B[1;36m1\u001B[0m\u001B[1;33m)\u001B[0m\u001B[1;33m\u001B[0m\u001B[1;33m\u001B[0m\u001B[0m\n\u001B[1;32m-> 3427\u001B[1;33m         \u001B[1;32mexcept\u001B[0m \u001B[0mself\u001B[0m\u001B[1;33m.\u001B[0m\u001B[0mcustom_exceptions\u001B[0m\u001B[1;33m:\u001B[0m\u001B[1;33m\u001B[0m\u001B[1;33m\u001B[0m\u001B[0m\n\u001B[0m\u001B[0;32m   3428\u001B[0m             \u001B[0metype\u001B[0m\u001B[1;33m,\u001B[0m \u001B[0mvalue\u001B[0m\u001B[1;33m,\u001B[0m \u001B[0mtb\u001B[0m \u001B[1;33m=\u001B[0m \u001B[0msys\u001B[0m\u001B[1;33m.\u001B[0m\u001B[0mexc_info\u001B[0m\u001B[1;33m(\u001B[0m\u001B[1;33m)\u001B[0m\u001B[1;33m\u001B[0m\u001B[1;33m\u001B[0m\u001B[0m\n\u001B[0;32m   3429\u001B[0m             \u001B[1;32mif\u001B[0m \u001B[0mresult\u001B[0m \u001B[1;32mis\u001B[0m \u001B[1;32mnot\u001B[0m \u001B[1;32mNone\u001B[0m\u001B[1;33m:\u001B[0m\u001B[1;33m\u001B[0m\u001B[1;33m\u001B[0m\u001B[0m\n",
      "\u001B[1;31mKeyboardInterrupt\u001B[0m: "
     ]
    }
   ],
   "source": [
    "from sklearn.neighbors import KNeighborsClassifier\n",
    "\n",
    "n_neighbors = [1, 5, 9, 15, 50, 100]\n",
    "for n_neighbor in n_neighbors:\n",
    "    knn = KNeighborsClassifier(n_neighbors=n_neighbor, algorithm='auto', leaf_size=1, weights='distance')\n",
    "    knn.fit(X_train, y_train)\n",
    "    print(\"Evaluation:\", n_neighbor, \"n_neighbor\")\n",
    "    y_pred = knn.predict(X_val)\n",
    "    knn_f1 = metrics.f1_score(y_val, y_pred, average= \"weighted\")\n",
    "    print(\"F1 score: {}\".format(knn_f1))\n",
    "    knn_accuracy = metrics.accuracy_score(y_val, y_pred)\n",
    "    print(\"Accuracy score: {}\".format(knn_accuracy))\n",
    "    \n",
    "    print(metrics.classification_report(y_val[:10],y_pred[:10]))"
   ]
  },
  {
   "cell_type": "code",
   "execution_count": 15,
   "metadata": {
    "pycharm": {
     "name": "#%%\n"
    }
   },
   "outputs": [
    {
     "name": "stdout",
     "output_type": "stream",
     "text": [
      "Fitting 5 folds for each of 6 candidates, totalling 30 fits\n"
     ]
    },
    {
     "name": "stderr",
     "output_type": "stream",
     "text": [
      "[Parallel(n_jobs=4)]: Using backend LokyBackend with 4 concurrent workers.\n",
      "[Parallel(n_jobs=4)]: Done  30 out of  30 | elapsed: 29.7min finished\n"
     ]
    },
    {
     "name": "stdout",
     "output_type": "stream",
     "text": [
      "0.6433528787057123\n",
      "{'algorithm': 'auto', 'leaf_size': 1, 'n_neighbors': 1, 'weights': 'distance'}\n",
      "KNeighborsClassifier(leaf_size=1, n_neighbors=1, weights='distance')\n"
     ]
    }
   ],
   "source": [
    "param_grid = {'n_neighbors':n_neighbors, 'algorithm':['auto'], 'leaf_size': [1], 'weights':['distance']}\n",
    "knn = KNeighborsClassifier()\n",
    "gridKNN = GridSearchCV(knn, param_grid, refit=True, verbose=2, n_jobs=4)\n",
    "gridKNN.fit(X_train, y_train)\n",
    "print(gridKNN.best_score_)\n",
    "print(gridKNN.best_params_)\n",
    "print(gridKNN.best_estimator_)"
   ]
  },
  {
   "cell_type": "markdown",
   "metadata": {
    "pycharm": {
     "name": "#%% md\n"
    }
   },
   "source": [
    "# KNN report and analysis"
   ]
  },
  {
   "cell_type": "code",
   "execution_count": 16,
   "metadata": {
    "pycharm": {
     "name": "#%%\n"
    }
   },
   "outputs": [
    {
     "name": "stdout",
     "output_type": "stream",
     "text": [
      "-----------------KNN Report---------------\n",
      "F1 score: 0.6942265298100196\n",
      "Accuracy score: 0.6910794862894828\n",
      "Confusion matrix for random 10 classes: \n",
      " [[0 0 0 0 0 1 0 0 0 0 0 0 0]\n",
      " [0 1 0 0 0 0 0 0 0 0 0 0 0]\n",
      " [0 0 0 0 0 0 0 0 0 0 0 0 0]\n",
      " [0 0 0 0 0 0 0 1 0 0 0 0 0]\n",
      " [0 0 0 0 1 0 0 0 0 0 0 0 0]\n",
      " [0 0 0 0 0 0 0 0 0 0 0 0 0]\n",
      " [0 0 1 0 0 0 0 0 0 0 0 0 0]\n",
      " [0 0 0 0 0 0 0 1 0 0 0 0 0]\n",
      " [0 0 0 0 0 0 0 0 1 0 0 0 0]\n",
      " [0 0 0 0 0 0 0 0 0 0 0 0 1]\n",
      " [0 0 0 0 0 0 0 0 0 0 1 0 0]\n",
      " [0 0 0 0 0 0 0 0 0 0 0 1 0]\n",
      " [0 0 0 0 0 0 0 0 0 0 0 0 0]]\n",
      "Plotting confusion matrix for random 10 classes\n"
     ]
    },
    {
     "data": {
      "image/png": "[encoded data removed]",
      "text/plain": [
       "<Figure size 432x288 with 2 Axes>"
      ]
     },
     "metadata": {
      "needs_background": "light"
     },
     "output_type": "display_data"
    },
    {
     "name": "stdout",
     "output_type": "stream",
     "text": [
      "              precision    recall  f1-score   support\n",
      "\n",
      "           0       0.61      0.70      0.65        79\n",
      "           1       0.87      0.62      0.73        72\n",
      "           2       0.64      0.75      0.69        48\n",
      "           3       0.74      0.62      0.67        47\n",
      "           4       0.76      0.77      0.76        61\n",
      "           5       0.59      0.75      0.66        59\n",
      "           6       0.83      0.75      0.79        65\n",
      "           7       0.77      0.66      0.71        65\n",
      "           8       0.48      0.75      0.59        55\n",
      "           9       0.76      0.76      0.76        49\n",
      "          10       0.57      0.62      0.60        40\n",
      "          11       0.85      0.81      0.83        72\n",
      "          12       0.85      0.65      0.74        71\n",
      "          13       0.74      0.63      0.68        51\n",
      "          14       0.78      0.61      0.69        57\n",
      "          15       0.68      0.84      0.75        50\n",
      "          16       0.54      0.70      0.61        40\n",
      "          17       0.78      0.61      0.68        46\n",
      "          18       0.80      0.65      0.72        55\n",
      "          19       0.37      0.64      0.47        47\n",
      "          20       0.69      0.81      0.75        64\n",
      "          21       0.76      0.67      0.71        82\n",
      "          22       0.69      0.97      0.81        71\n",
      "          23       0.65      0.62      0.63        60\n",
      "          24       0.72      0.67      0.69        63\n",
      "          25       0.69      0.74      0.72        73\n",
      "          26       0.80      0.57      0.67        21\n",
      "          27       0.75      0.62      0.68        61\n",
      "          28       0.70      0.65      0.68        69\n",
      "          29       0.85      0.68      0.76        76\n",
      "          30       0.65      0.67      0.66        46\n",
      "          31       0.96      0.70      0.81        66\n",
      "          32       0.74      0.53      0.62        32\n",
      "          33       0.78      0.75      0.77        53\n",
      "          34       0.75      0.63      0.68        43\n",
      "          35       0.51      0.71      0.59        78\n",
      "          36       0.76      0.56      0.64        50\n",
      "          37       0.65      0.52      0.58        46\n",
      "          38       0.60      0.53      0.56        58\n",
      "          39       0.82      0.61      0.70        44\n",
      "          40       0.78      0.77      0.78        74\n",
      "          41       0.80      0.63      0.71        57\n",
      "          42       0.58      0.68      0.63        59\n",
      "          43       0.65      0.65      0.65        54\n",
      "          44       0.83      0.57      0.67        60\n",
      "          45       0.78      0.76      0.77        68\n",
      "          46       0.52      0.89      0.65        73\n",
      "          47       0.88      0.66      0.75        53\n",
      "          48       0.55      0.67      0.61        49\n",
      "          49       0.72      0.73      0.73        49\n",
      "\n",
      "    accuracy                           0.69      2881\n",
      "   macro avg       0.71      0.68      0.69      2881\n",
      "weighted avg       0.72      0.69      0.69      2881\n",
      "\n"
     ]
    }
   ],
   "source": [
    "y_pred_knn = gridKNN.predict(X_val)\n",
    "knn_f1 = metrics.f1_score(y_val, y_pred_knn, average= \"weighted\")\n",
    "knn_accuracy = metrics.accuracy_score(y_val, y_pred_knn)\n",
    "knn_cm = metrics.confusion_matrix(y_val[:10], y_pred_knn[:10])\n",
    "print(\"-----------------KNN Report---------------\")\n",
    "print(\"F1 score: {}\".format(knn_f1))\n",
    "print(\"Accuracy score: {}\".format(knn_accuracy))\n",
    "print(\"Confusion matrix for random 10 classes: \\n\", knn_cm)\n",
    "print('Plotting confusion matrix for random 10 classes')\n",
    "\n",
    "plt.figure()\n",
    "plot_confusion_matrix(knn_cm[:10], y_val[:10])\n",
    "plt.show()\n",
    "\n",
    "print(metrics.classification_report(y_val, y_pred_knn))\n"
   ]
  },
  {
   "cell_type": "markdown",
   "metadata": {},
   "source": [
    "# Naive Bayes Classifier"
   ]
  },
  {
   "cell_type": "code",
   "execution_count": 11,
   "metadata": {
    "pycharm": {
     "name": "#%%\n"
    }
   },
   "outputs": [],
   "source": [
    "from sklearn.naive_bayes import *\n",
    "if not is_reduce_dim:\n",
    "    Categorical_NB = CategoricalNB()\n",
    "    Categorical_NB.fit(X_train, y_train)\n",
    "\n",
    "    Complement_NB = ComplementNB()\n",
    "    Complement_NB.fit(X_train, y_train)\n",
    "\n",
    "    Gaussian_NB = GaussianNB()\n",
    "    Gaussian_NB.fit(X_train, y_train)\n",
    "\n",
    "    Multinomial_NB = MultinomialNB()\n",
    "    Multinomial_NB.fit(X_train, y_train)\n"
   ]
  },
  {
   "cell_type": "markdown",
   "metadata": {},
   "source": [
    "# Naive Bayes Classifier report and analysis"
   ]
  },
  {
   "cell_type": "code",
   "execution_count": 12,
   "metadata": {
    "pycharm": {
     "name": "#%%\n"
    }
   },
   "outputs": [
    {
     "name": "stdout",
     "output_type": "stream",
     "text": [
      "-----------------Naive Bayes Classifier Report---------------\n",
      "CategoricalNB F1 score: 0.0012523391764078004 and Accuracy score: 0.025338424158278375\n",
      "ComplementNB F1 score: 0.17163770452106317 and Accuracy score: 0.206872613675807\n",
      "GaussianNB F1 score: 0.25374524541434307 and Accuracy score: 0.2651856994099271\n",
      "MultinomialNB F1 score: 0.07215686196118869 and Accuracy score: 0.12044429017702186\n",
      "Confusion matrix for random 10 classes: \n",
      " [[0 0 0 0 0 0 0 0 0 0 0 0 0 0 0 0 0]\n",
      " [0 0 1 0 0 0 0 0 0 0 0 0 0 0 0 0 0]\n",
      " [0 0 0 0 0 0 0 0 0 0 0 0 1 0 0 0 0]\n",
      " [0 0 0 0 0 0 0 0 0 0 0 0 0 0 0 0 0]\n",
      " [0 0 0 0 0 0 0 0 0 0 0 0 0 0 0 0 0]\n",
      " [0 0 0 0 0 0 0 0 0 0 0 0 0 0 0 0 0]\n",
      " [0 0 0 0 0 0 0 0 0 0 0 0 0 0 0 0 0]\n",
      " [1 0 0 0 0 0 0 0 0 0 0 0 0 0 0 0 0]\n",
      " [0 0 0 0 0 0 1 0 0 0 0 0 0 0 0 0 0]\n",
      " [0 0 0 0 0 1 0 0 0 0 0 0 0 0 0 0 0]\n",
      " [0 0 0 0 0 0 1 0 0 0 0 0 0 0 0 0 0]\n",
      " [0 0 0 0 0 0 0 0 0 0 0 1 0 0 0 0 0]\n",
      " [0 0 0 0 0 0 0 0 0 0 0 0 0 0 0 0 0]\n",
      " [0 0 0 1 0 0 0 0 0 0 0 0 0 0 0 0 0]\n",
      " [0 0 0 0 0 0 0 0 0 0 0 0 0 0 0 0 1]\n",
      " [0 0 0 0 1 0 0 0 0 0 0 0 0 0 0 0 0]\n",
      " [0 0 0 0 0 0 0 0 0 0 0 0 0 0 0 0 0]]\n",
      "Plotting confusion matrix for random 10 classes\n"
     ]
    },
    {
     "data": {
      "image/png": "[encoded data removed]",
      "text/plain": [
       "<Figure size 432x288 with 2 Axes>"
      ]
     },
     "metadata": {
      "needs_background": "light"
     },
     "output_type": "display_data"
    },
    {
     "name": "stdout",
     "output_type": "stream",
     "text": [
      "              precision    recall  f1-score   support\n",
      "\n",
      "           0       0.18      0.24      0.20        79\n",
      "           1       0.25      0.04      0.07        72\n",
      "           2       0.16      0.23      0.19        48\n",
      "           3       0.12      0.19      0.14        47\n",
      "           4       0.37      0.11      0.17        61\n",
      "           5       0.55      0.46      0.50        59\n",
      "           6       0.29      0.26      0.27        65\n",
      "           7       0.20      0.15      0.17        65\n",
      "           8       0.23      0.49      0.31        55\n",
      "           9       0.29      0.37      0.32        49\n",
      "          10       0.38      0.23      0.28        40\n",
      "          11       0.38      0.24      0.29        72\n",
      "          12       0.39      0.37      0.38        71\n",
      "          13       0.25      0.29      0.27        51\n",
      "          14       0.23      0.32      0.26        57\n",
      "          15       0.40      0.38      0.39        50\n",
      "          16       0.27      0.42      0.33        40\n",
      "          17       0.14      0.17      0.15        46\n",
      "          18       0.29      0.09      0.14        55\n",
      "          19       0.22      0.15      0.18        47\n",
      "          20       0.19      0.55      0.29        64\n",
      "          21       0.31      0.05      0.08        82\n",
      "          22       0.72      0.82      0.77        71\n",
      "          23       0.22      0.08      0.12        60\n",
      "          24       0.28      0.25      0.26        63\n",
      "          25       0.48      0.45      0.46        73\n",
      "          26       0.08      0.05      0.06        21\n",
      "          27       0.31      0.18      0.23        61\n",
      "          28       0.27      0.10      0.15        69\n",
      "          29       0.59      0.17      0.27        76\n",
      "          30       0.22      0.20      0.21        46\n",
      "          31       0.34      0.29      0.31        66\n",
      "          32       0.30      0.19      0.23        32\n",
      "          33       0.24      0.64      0.35        53\n",
      "          34       0.09      0.07      0.08        43\n",
      "          35       0.34      0.65      0.44        78\n",
      "          36       0.21      0.36      0.26        50\n",
      "          37       0.26      0.22      0.24        46\n",
      "          38       0.38      0.09      0.14        58\n",
      "          39       0.37      0.23      0.28        44\n",
      "          40       0.29      0.15      0.20        74\n",
      "          41       0.57      0.14      0.23        57\n",
      "          42       0.08      0.07      0.07        59\n",
      "          43       0.17      0.35      0.23        54\n",
      "          44       0.27      0.13      0.18        60\n",
      "          45       0.26      0.22      0.24        68\n",
      "          46       0.26      0.27      0.27        73\n",
      "          47       0.52      0.43      0.47        53\n",
      "          48       0.11      0.08      0.09        49\n",
      "          49       0.09      0.31      0.14        49\n",
      "\n",
      "    accuracy                           0.27      2881\n",
      "   macro avg       0.29      0.26      0.25      2881\n",
      "weighted avg       0.30      0.27      0.25      2881\n",
      "\n"
     ]
    }
   ],
   "source": [
    "y_pred_Categorical_NB = Categorical_NB.predict(X_val)\n",
    "y_pred_Complement_NB = Complement_NB.predict(X_val)\n",
    "y_pred_Gaussian_NB = Gaussian_NB.predict(X_val)\n",
    "y_pred_Multinomial_NB = Multinomial_NB.predict(X_val)\n",
    "\n",
    "Categorical_NB_f1 = metrics.f1_score(y_val, y_pred_Categorical_NB, average= \"weighted\")\n",
    "Complement_NB_f1 = metrics.f1_score(y_val, y_pred_Complement_NB, average= \"weighted\")\n",
    "Gaussian_NB_f1 = metrics.f1_score(y_val, y_pred_Gaussian_NB, average= \"weighted\")\n",
    "Multinomial_NB_f1 = metrics.f1_score(y_val, y_pred_Multinomial_NB, average= \"weighted\")\n",
    "\n",
    "Categorical_NB_accuracy = metrics.accuracy_score(y_val, y_pred_Categorical_NB)\n",
    "Complement_NB_accuracy = metrics.accuracy_score(y_val, y_pred_Complement_NB)\n",
    "Gaussian_NB_accuracy = metrics.accuracy_score(y_val, y_pred_Gaussian_NB)\n",
    "Multinomial_NB_accuracy = metrics.accuracy_score(y_val, y_pred_Multinomial_NB)\n",
    "\n",
    "Gaussian_NB_cm = metrics.confusion_matrix(y_val[:10], y_pred_Gaussian_NB[:10])\n",
    "\n",
    "print(\"-----------------Naive Bayes Classifier Report---------------\")\n",
    "print(\"CategoricalNB F1 score: {} and Accuracy score: {}\".format(Categorical_NB_f1, Categorical_NB_accuracy))\n",
    "print(\"ComplementNB F1 score: {} and Accuracy score: {}\".format(Complement_NB_f1, Complement_NB_accuracy))\n",
    "print(\"GaussianNB F1 score: {} and Accuracy score: {}\".format(Gaussian_NB_f1, Gaussian_NB_accuracy))\n",
    "print(\"MultinomialNB F1 score: {} and Accuracy score: {}\".format(Multinomial_NB_f1, Multinomial_NB_accuracy))\n",
    "print(\"Confusion matrix for random 10 classes: \\n\", Gaussian_NB_cm)\n",
    "print('Plotting confusion matrix for random 10 classes')\n",
    "\n",
    "plt.figure()\n",
    "plot_confusion_matrix(Gaussian_NB_cm[:10], y_val[:10])\n",
    "plt.show()\n",
    "\n",
    "print(metrics.classification_report(y_val, y_pred_Gaussian_NB))"
   ]
  },
  {
   "cell_type": "markdown",
   "metadata": {},
   "source": [
    "# SVM Classifier"
   ]
  },
  {
   "cell_type": "code",
   "execution_count": 20,
   "metadata": {
    "pycharm": {
     "name": "#%%\n"
    }
   },
   "outputs": [],
   "source": [
    "from sklearn.svm import SVC\n",
    "\n",
    "kernels = ['poly', 'rbf', 'sigmoid','linear']\n",
    "for kernel in kernels:\n",
    "    svc = SVC(kernel=kernel)\n",
    "    svc.fit(X_train, y_train)\n",
    "    y_pred = svc.predict(X_val)\n",
    "    svc_f1 = metrics.f1_score(y_val, y_pred, average= \"weighted\")\n",
    "    print(\"Evaluation:\", kernel, \"kernel\")\n",
    "    print(\"F1 score: {}\".format(svc_f1))\n",
    "    svc_accuracy = metrics.accuracy_score(y_val, y_pred)\n",
    "    print(\"Accuracy score: {}\".format(svc_accuracy))\n",
    "    print(metrics.classification_report(y_val[:10],y_pred[:10]))\n"
   ]
  },
  {
   "cell_type": "code",
   "execution_count": 21,
   "metadata": {
    "pycharm": {
     "name": "#%%\n"
    }
   },
   "outputs": [
    {
     "name": "stdout",
     "output_type": "stream",
     "text": [
      "Fitting 5 folds for each of 16 candidates, totalling 80 fits\n"
     ]
    },
    {
     "name": "stderr",
     "output_type": "stream",
     "text": [
      "[Parallel(n_jobs=4)]: Using backend LokyBackend with 4 concurrent workers.\n",
      "[Parallel(n_jobs=4)]: Done  33 tasks      | elapsed: 276.9min\n",
      "[Parallel(n_jobs=4)]: Done  80 out of  80 | elapsed: 621.7min finished\n"
     ]
    },
    {
     "name": "stdout",
     "output_type": "stream",
     "text": [
      "0.6538528862376476\n",
      "{'C': 100, 'gamma': 'scale', 'kernel': 'rbf'}\n",
      "SVC(C=100)\n"
     ]
    }
   ],
   "source": [
    "param_grid = {'C': [0.1,1, 10, 100], 'gamma': ['scale', 'auto'],'kernel': kernels[:2]}\n",
    "svc = SVC()\n",
    "grid_svc = GridSearchCV(svc, param_grid, refit=True, verbose=2, n_jobs=4)\n",
    "grid_svc.fit(X_train, y_train)\n",
    "print(grid_svc.best_score_)\n",
    "print(grid_svc.best_params_)\n",
    "print(grid_svc.best_estimator_)"
   ]
  },
  {
   "cell_type": "markdown",
   "metadata": {},
   "source": [
    "# SVM Classifier report and analysis"
   ]
  },
  {
   "cell_type": "code",
   "execution_count": 22,
   "metadata": {
    "pycharm": {
     "name": "#%%\n"
    }
   },
   "outputs": [
    {
     "name": "stdout",
     "output_type": "stream",
     "text": [
      "-----------------SVM Classifier Report---------------\n",
      "F1 score: 0.6874083188382907\n",
      "Accuracy score: 0.6886497743838945\n",
      "Confusion matrix for random 10 classes: \n",
      " [[1 0 0 0 0 0 0 0 0 0 0 0 0]\n",
      " [0 0 0 1 0 0 0 0 0 0 0 0 0]\n",
      " [0 0 0 0 0 0 0 0 0 0 0 0 0]\n",
      " [0 0 0 0 0 0 0 0 0 0 0 0 0]\n",
      " [0 0 0 0 0 0 0 0 0 0 0 0 0]\n",
      " [0 0 0 0 0 0 0 0 1 0 0 0 0]\n",
      " [0 0 0 0 0 0 1 0 0 0 0 0 0]\n",
      " [0 0 0 0 1 0 0 0 0 0 0 0 0]\n",
      " [0 0 0 0 0 0 0 0 1 0 0 0 0]\n",
      " [0 0 0 0 0 0 0 0 0 1 0 0 0]\n",
      " [0 0 1 0 0 0 0 0 0 0 0 0 0]\n",
      " [0 0 0 0 0 0 0 0 0 0 0 1 0]\n",
      " [0 0 0 0 0 0 0 0 0 0 0 0 1]]\n",
      "Plotting confusion matrix for random 10 classes\n"
     ]
    },
    {
     "data": {
      "text/plain": "<Figure size 432x288 with 2 Axes>",
      "image/png": "[encoded data removed]"
     },
     "metadata": {
      "needs_background": "light"
     },
     "output_type": "display_data"
    },
    {
     "name": "stdout",
     "output_type": "stream",
     "text": [
      "              precision    recall  f1-score   support\n",
      "\n",
      "           0       0.59      0.68      0.64        79\n",
      "           1       0.68      0.56      0.61        72\n",
      "           2       0.80      0.90      0.84        48\n",
      "           3       0.68      0.55      0.61        47\n",
      "           4       0.60      0.64      0.62        61\n",
      "           5       0.60      0.83      0.70        59\n",
      "           6       0.60      0.75      0.67        65\n",
      "           7       0.62      0.80      0.70        65\n",
      "           8       0.63      0.65      0.64        55\n",
      "           9       0.75      0.82      0.78        49\n",
      "          10       0.60      0.70      0.64        40\n",
      "          11       0.67      0.86      0.76        72\n",
      "          12       0.84      0.76      0.80        71\n",
      "          13       0.63      0.63      0.63        51\n",
      "          14       0.62      0.68      0.65        57\n",
      "          15       0.62      0.70      0.66        50\n",
      "          16       0.58      0.62      0.60        40\n",
      "          17       0.68      0.61      0.64        46\n",
      "          18       0.67      0.69      0.68        55\n",
      "          19       0.60      0.66      0.63        47\n",
      "          20       0.66      0.73      0.70        64\n",
      "          21       0.70      0.71      0.70        82\n",
      "          22       0.73      0.90      0.81        71\n",
      "          23       0.59      0.48      0.53        60\n",
      "          24       0.74      0.63      0.68        63\n",
      "          25       0.63      0.78      0.70        73\n",
      "          26       1.00      0.62      0.76        21\n",
      "          27       0.82      0.59      0.69        61\n",
      "          28       0.56      0.62      0.59        69\n",
      "          29       0.77      0.76      0.77        76\n",
      "          30       0.79      0.59      0.68        46\n",
      "          31       0.81      0.85      0.83        66\n",
      "          32       0.93      0.41      0.57        32\n",
      "          33       0.70      0.74      0.72        53\n",
      "          34       0.91      0.49      0.64        43\n",
      "          35       0.73      0.74      0.74        78\n",
      "          36       0.67      0.64      0.65        50\n",
      "          37       0.70      0.57      0.63        46\n",
      "          38       0.87      0.57      0.69        58\n",
      "          39       0.96      0.57      0.71        44\n",
      "          40       0.65      0.74      0.69        74\n",
      "          41       0.75      0.58      0.65        57\n",
      "          42       0.81      0.66      0.73        59\n",
      "          43       0.63      0.69      0.65        54\n",
      "          44       0.75      0.67      0.71        60\n",
      "          45       0.54      0.74      0.62        68\n",
      "          46       0.70      0.75      0.72        73\n",
      "          47       0.83      0.81      0.82        53\n",
      "          48       0.76      0.53      0.63        49\n",
      "          49       0.84      0.63      0.72        49\n",
      "\n",
      "    accuracy                           0.69      2881\n",
      "   macro avg       0.71      0.68      0.68      2881\n",
      "weighted avg       0.70      0.69      0.69      2881\n",
      "\n"
     ]
    }
   ],
   "source": [
    "y_pred_svc = grid_svc.predict(X_val)\n",
    "svc_f1 = metrics.f1_score(y_val, y_pred_svc, average= \"weighted\")\n",
    "svc_accuracy = metrics.accuracy_score(y_val, y_pred_svc)\n",
    "svc_cm = metrics.confusion_matrix(y_val[:10], y_pred_svc[:10])\n",
    "print(\"-----------------SVM Classifier Report---------------\")\n",
    "print(\"F1 score: {}\".format(svc_f1))\n",
    "print(\"Accuracy score: {}\".format(svc_accuracy))\n",
    "print(\"Confusion matrix for random 10 classes: \\n\", svc_cm)\n",
    "print('Plotting confusion matrix for random 10 classes')\n",
    "\n",
    "plt.figure()\n",
    "plot_confusion_matrix(svc_cm[:10], y_val[:10])\n",
    "plt.show()\n",
    "\n",
    "print(metrics.classification_report(y_val, y_pred_svc))"
   ]
  },
  {
   "cell_type": "markdown",
   "metadata": {},
   "source": [
    "# MLP Classifier"
   ]
  },
  {
   "cell_type": "code",
   "execution_count": 40,
   "metadata": {
    "pycharm": {
     "name": "#%%\n"
    }
   },
   "outputs": [
    {
     "name": "stdout",
     "output_type": "stream",
     "text": [
      "Iteration 1, loss = 3.91851740\n",
      "Iteration 2, loss = 3.90668161\n",
      "Iteration 3, loss = 3.89493631\n",
      "Iteration 4, loss = 3.87659171\n",
      "Iteration 5, loss = 3.84345641\n",
      "Iteration 6, loss = 3.78277609\n",
      "Iteration 7, loss = 3.68657792\n",
      "Iteration 8, loss = 3.56533681\n",
      "Iteration 9, loss = 3.44133515\n",
      "Iteration 10, loss = 3.32320171\n",
      "Iteration 11, loss = 3.21317001\n",
      "Iteration 12, loss = 3.11151858\n",
      "Iteration 13, loss = 3.02804539\n",
      "Iteration 14, loss = 2.95906798\n",
      "Iteration 15, loss = 2.88374073\n",
      "Iteration 16, loss = 2.81685173\n",
      "Iteration 17, loss = 2.75176799\n",
      "Iteration 18, loss = 2.69673035\n",
      "Iteration 19, loss = 2.66375226\n",
      "Iteration 20, loss = 2.62564347\n",
      "Iteration 21, loss = 2.58992327\n",
      "Iteration 22, loss = 2.54574885\n",
      "Iteration 23, loss = 2.52014356\n",
      "Iteration 24, loss = 2.49599454\n",
      "Iteration 25, loss = 2.46306056\n",
      "Iteration 26, loss = 2.43552794\n",
      "Iteration 27, loss = 2.40927351\n",
      "Iteration 28, loss = 2.38796950\n",
      "Iteration 29, loss = 2.36850509\n",
      "Iteration 30, loss = 2.33187247\n",
      "Iteration 31, loss = 2.30099040\n",
      "Iteration 32, loss = 2.27848758\n",
      "Iteration 33, loss = 2.26442234\n",
      "Iteration 34, loss = 2.23215878\n",
      "Iteration 35, loss = 2.20503429\n",
      "Iteration 36, loss = 2.17608827\n",
      "Iteration 37, loss = 2.16397613\n",
      "Iteration 38, loss = 2.13464526\n",
      "Iteration 39, loss = 2.11238480\n",
      "Iteration 40, loss = 2.09382760\n",
      "Iteration 41, loss = 2.06055713\n",
      "Iteration 42, loss = 2.03533052\n",
      "Iteration 43, loss = 2.01634363\n",
      "Iteration 44, loss = 1.99477699\n",
      "Iteration 45, loss = 1.97365766\n",
      "Iteration 46, loss = 1.94656359\n",
      "Iteration 47, loss = 1.92130820\n",
      "Iteration 48, loss = 1.89436742\n",
      "Iteration 49, loss = 1.87927818\n",
      "Iteration 50, loss = 1.86086121\n",
      "Iteration 51, loss = 1.83018620\n",
      "Iteration 52, loss = 1.80174663\n",
      "Iteration 53, loss = 1.78659758\n",
      "Iteration 54, loss = 1.76143990\n",
      "Iteration 55, loss = 1.73326698\n",
      "Iteration 56, loss = 1.72554913\n",
      "Iteration 57, loss = 1.69489366\n",
      "Iteration 58, loss = 1.67409078\n",
      "Iteration 59, loss = 1.63642619\n",
      "Iteration 60, loss = 1.61413380\n",
      "Iteration 61, loss = 1.58886319\n",
      "Iteration 62, loss = 1.55829160\n",
      "Iteration 63, loss = 1.54583162\n",
      "Iteration 64, loss = 1.52885511\n",
      "Iteration 65, loss = 1.50001715\n",
      "Iteration 66, loss = 1.46730292\n",
      "Iteration 67, loss = 1.44675279\n",
      "Iteration 68, loss = 1.42299057\n",
      "Iteration 69, loss = 1.39646855\n",
      "Iteration 70, loss = 1.37439908\n",
      "Iteration 71, loss = 1.34230166\n",
      "Iteration 72, loss = 1.32143405\n",
      "Iteration 73, loss = 1.29723346\n",
      "Iteration 74, loss = 1.27188635\n",
      "Iteration 75, loss = 1.24687084\n",
      "Iteration 76, loss = 1.21940786\n",
      "Iteration 77, loss = 1.20327902\n",
      "Iteration 78, loss = 1.18328247\n",
      "Iteration 79, loss = 1.14737150\n",
      "Iteration 80, loss = 1.12348123\n",
      "Iteration 81, loss = 1.10810870\n",
      "Iteration 82, loss = 1.08007301\n",
      "Iteration 83, loss = 1.05624158\n",
      "Iteration 84, loss = 1.02542061\n",
      "Iteration 85, loss = 1.00843556\n",
      "Iteration 86, loss = 0.98962059\n",
      "Iteration 87, loss = 0.96717503\n",
      "Iteration 88, loss = 0.94296246\n",
      "Iteration 89, loss = 0.91919038\n",
      "Iteration 90, loss = 0.88607839\n",
      "Iteration 91, loss = 0.86458283\n",
      "Iteration 92, loss = 0.84130421\n",
      "Iteration 93, loss = 0.81867961\n",
      "Iteration 94, loss = 0.79964326\n",
      "Iteration 95, loss = 0.77907805\n",
      "Iteration 96, loss = 0.75999181\n",
      "Iteration 97, loss = 0.73357610\n",
      "Iteration 98, loss = 0.71851507\n",
      "Iteration 99, loss = 0.70210915\n",
      "Iteration 100, loss = 0.68064312\n",
      "Iteration 101, loss = 0.65917303\n",
      "Iteration 102, loss = 0.63889592\n",
      "Iteration 103, loss = 0.61982370\n",
      "Iteration 104, loss = 0.60253227\n",
      "Iteration 105, loss = 0.57898894\n",
      "Iteration 106, loss = 0.56317769\n",
      "Iteration 107, loss = 0.54555982\n",
      "Iteration 108, loss = 0.52391139\n",
      "Iteration 109, loss = 0.50725630\n",
      "Iteration 110, loss = 0.49290670\n",
      "Iteration 111, loss = 0.47796278\n",
      "Iteration 112, loss = 0.46139305\n",
      "Iteration 113, loss = 0.44790101\n",
      "Iteration 114, loss = 0.43317408\n",
      "Iteration 115, loss = 0.41750036\n",
      "Iteration 116, loss = 0.39887390\n",
      "Iteration 117, loss = 0.38663389\n",
      "Iteration 118, loss = 0.36898066\n",
      "Iteration 119, loss = 0.35848018\n",
      "Iteration 120, loss = 0.34393541\n",
      "Iteration 121, loss = 0.33372074\n",
      "Iteration 122, loss = 0.32605176\n",
      "Iteration 123, loss = 0.30668091\n",
      "Iteration 124, loss = 0.29090912\n",
      "Iteration 125, loss = 0.28152578\n",
      "Iteration 126, loss = 0.27267813\n",
      "Iteration 127, loss = 0.26181484\n",
      "Iteration 128, loss = 0.25593538\n",
      "Iteration 129, loss = 0.24819569\n",
      "Iteration 130, loss = 0.23386956\n",
      "Iteration 131, loss = 0.22422650\n",
      "Iteration 132, loss = 0.21667258\n",
      "Iteration 133, loss = 0.21184384\n",
      "Iteration 134, loss = 0.20153628\n",
      "Iteration 135, loss = 0.19449827\n",
      "Iteration 136, loss = 0.18588293\n",
      "Iteration 137, loss = 0.17584087\n",
      "Iteration 138, loss = 0.17128258\n",
      "Iteration 139, loss = 0.16458080\n",
      "Iteration 140, loss = 0.15801842\n",
      "Iteration 141, loss = 0.15229807\n",
      "Iteration 142, loss = 0.14778251\n",
      "Iteration 143, loss = 0.14226070\n",
      "Iteration 144, loss = 0.13837015\n",
      "Iteration 145, loss = 0.13309746\n",
      "Iteration 146, loss = 0.12857940\n",
      "Iteration 147, loss = 0.12256538\n",
      "Iteration 148, loss = 0.11825282\n",
      "Iteration 149, loss = 0.11222322\n",
      "Iteration 150, loss = 0.10900589\n",
      "Iteration 151, loss = 0.10564925\n",
      "Iteration 152, loss = 0.10206719\n",
      "Iteration 153, loss = 0.09830212\n",
      "Iteration 154, loss = 0.09514313\n",
      "Iteration 155, loss = 0.09185427\n",
      "Iteration 156, loss = 0.08849832\n",
      "Iteration 157, loss = 0.08563695\n",
      "Iteration 158, loss = 0.08239070\n",
      "Iteration 159, loss = 0.07843293\n",
      "Iteration 160, loss = 0.07643068\n",
      "Iteration 161, loss = 0.07443519\n",
      "Iteration 162, loss = 0.07163602\n",
      "Iteration 163, loss = 0.06963540\n",
      "Iteration 164, loss = 0.06770421\n",
      "Iteration 165, loss = 0.06498956\n",
      "Iteration 166, loss = 0.06362826\n",
      "Iteration 167, loss = 0.06145812\n",
      "Iteration 168, loss = 0.05925235\n",
      "Iteration 169, loss = 0.05825801\n",
      "Iteration 170, loss = 0.05585520\n",
      "Iteration 171, loss = 0.05410136\n",
      "Iteration 172, loss = 0.05349146\n",
      "Iteration 173, loss = 0.05147667\n",
      "Iteration 174, loss = 0.04986412\n",
      "Iteration 175, loss = 0.04842714\n",
      "Iteration 176, loss = 0.04681001\n",
      "Iteration 177, loss = 0.04544163\n",
      "Iteration 178, loss = 0.04428745\n",
      "Iteration 179, loss = 0.04314683\n",
      "Iteration 180, loss = 0.04180556\n",
      "Iteration 181, loss = 0.04112993\n",
      "Iteration 182, loss = 0.03991684\n",
      "Iteration 183, loss = 0.03888914\n",
      "Iteration 184, loss = 0.03794878\n",
      "Iteration 185, loss = 0.03685872\n",
      "Iteration 186, loss = 0.03614467\n",
      "Iteration 187, loss = 0.03563612\n",
      "Iteration 188, loss = 0.03426878\n",
      "Iteration 189, loss = 0.03356134\n",
      "Iteration 190, loss = 0.03243206\n",
      "Iteration 191, loss = 0.03181896\n",
      "Iteration 192, loss = 0.03147660\n",
      "Iteration 193, loss = 0.03071394\n",
      "Iteration 194, loss = 0.02976843\n",
      "Iteration 195, loss = 0.02911032\n",
      "Iteration 196, loss = 0.02856925\n",
      "Iteration 197, loss = 0.02800005\n",
      "Iteration 198, loss = 0.02703971\n",
      "Iteration 199, loss = 0.02648496\n",
      "Iteration 200, loss = 0.02592348\n",
      "Iteration 201, loss = 0.02559939\n",
      "Iteration 202, loss = 0.02530143\n",
      "Iteration 203, loss = 0.02441561\n",
      "Iteration 204, loss = 0.02401991\n",
      "Iteration 205, loss = 0.02327111\n",
      "Iteration 206, loss = 0.02294512\n",
      "Iteration 207, loss = 0.02226079\n",
      "Iteration 208, loss = 0.02196584\n",
      "Iteration 209, loss = 0.02149158\n",
      "Iteration 210, loss = 0.02113766\n",
      "Iteration 211, loss = 0.02053283\n",
      "Iteration 212, loss = 0.02022995\n",
      "Iteration 213, loss = 0.01976390\n",
      "Iteration 214, loss = 0.01966140\n",
      "Iteration 215, loss = 0.01904467\n",
      "Iteration 216, loss = 0.01870182\n",
      "Iteration 217, loss = 0.01853014\n",
      "Iteration 218, loss = 0.01818719\n",
      "Iteration 219, loss = 0.01778577\n",
      "Iteration 220, loss = 0.01743997\n",
      "Iteration 221, loss = 0.01720392\n",
      "Iteration 222, loss = 0.01689717\n",
      "Iteration 223, loss = 0.01645507\n",
      "Iteration 224, loss = 0.01631703\n",
      "Iteration 225, loss = 0.01590579\n",
      "Iteration 226, loss = 0.01564938\n",
      "Iteration 227, loss = 0.01544097\n",
      "Iteration 228, loss = 0.01520593\n",
      "Iteration 229, loss = 0.01500786\n",
      "Iteration 230, loss = 0.01467207\n",
      "Iteration 231, loss = 0.01449363\n",
      "Iteration 232, loss = 0.01424014\n",
      "Iteration 233, loss = 0.01403066\n",
      "Iteration 234, loss = 0.01377917\n",
      "Iteration 235, loss = 0.01351051\n",
      "Iteration 236, loss = 0.01337623\n",
      "Iteration 237, loss = 0.01315203\n",
      "Iteration 238, loss = 0.01299001\n",
      "Iteration 239, loss = 0.01277081\n",
      "Iteration 240, loss = 0.01259514\n",
      "Iteration 241, loss = 0.01238442\n",
      "Iteration 242, loss = 0.01221362\n",
      "Iteration 243, loss = 0.01217685\n",
      "Iteration 244, loss = 0.01181829\n",
      "Iteration 245, loss = 0.01166968\n",
      "Iteration 246, loss = 0.01155553\n",
      "Iteration 247, loss = 0.01135399\n",
      "Iteration 248, loss = 0.01119511\n",
      "Iteration 249, loss = 0.01103087\n",
      "Iteration 250, loss = 0.01087275\n",
      "Iteration 251, loss = 0.01076689\n",
      "Iteration 252, loss = 0.01057375\n",
      "Iteration 253, loss = 0.01048190\n",
      "Iteration 254, loss = 0.01032723\n",
      "Iteration 255, loss = 0.01020132\n",
      "Iteration 256, loss = 0.01004546\n",
      "Iteration 257, loss = 0.00992177\n",
      "Iteration 258, loss = 0.00981075\n",
      "Iteration 259, loss = 0.00970664\n",
      "Iteration 260, loss = 0.00955742\n",
      "Iteration 261, loss = 0.00945293\n",
      "Iteration 262, loss = 0.00935453\n",
      "Iteration 263, loss = 0.00921760\n",
      "Iteration 264, loss = 0.00911070\n",
      "Iteration 265, loss = 0.00902011\n",
      "Iteration 266, loss = 0.00888203\n",
      "Iteration 267, loss = 0.00880909\n",
      "Iteration 268, loss = 0.00874015\n",
      "Iteration 269, loss = 0.00858316\n",
      "Iteration 270, loss = 0.00853963\n",
      "Iteration 271, loss = 0.00839991\n",
      "Iteration 272, loss = 0.00830232\n",
      "Iteration 273, loss = 0.00827682\n",
      "Iteration 274, loss = 0.00820319\n",
      "Iteration 275, loss = 0.00806464\n",
      "Iteration 276, loss = 0.00796805\n",
      "Iteration 277, loss = 0.00788756\n",
      "Iteration 278, loss = 0.00780847\n",
      "Iteration 279, loss = 0.00771497\n",
      "Iteration 280, loss = 0.00764427\n",
      "Iteration 281, loss = 0.00753503\n",
      "Iteration 282, loss = 0.00748583\n",
      "Iteration 283, loss = 0.00739487\n",
      "Iteration 284, loss = 0.00733731\n",
      "Iteration 285, loss = 0.00727189\n",
      "Iteration 286, loss = 0.00718990\n",
      "Iteration 287, loss = 0.00709848\n",
      "Iteration 288, loss = 0.00704416\n",
      "Iteration 289, loss = 0.00701746\n",
      "Iteration 290, loss = 0.00691460\n",
      "Iteration 291, loss = 0.00684914\n",
      "Iteration 292, loss = 0.00680259\n",
      "Iteration 293, loss = 0.00674233\n",
      "Iteration 294, loss = 0.00667824\n",
      "Iteration 295, loss = 0.00664979\n",
      "Iteration 296, loss = 0.00657149\n",
      "Iteration 297, loss = 0.00653154\n",
      "Iteration 298, loss = 0.00647010\n",
      "Iteration 299, loss = 0.00638084\n",
      "Iteration 300, loss = 0.00633729\n",
      "Iteration 301, loss = 0.00628436\n",
      "Training loss did not improve more than tol=0.000100 for 10 consecutive epochs. Stopping.\n"
     ]
    },
    {
     "data": {
      "text/plain": [
       "MLPClassifier(hidden_layer_sizes=(512, 512, 64), max_iter=500, verbose=2)"
      ]
     },
     "execution_count": 40,
     "metadata": {},
     "output_type": "execute_result"
    }
   ],
   "source": [
    "# from sklearn.neural_network import MLPClassifier\n",
    "#\n",
    "# clf = MLPClassifier(hidden_layer_sizes=(512, 512, 64), verbose=2, max_iter=500)\n",
    "# clf.fit(X_train, y_train)"
   ]
  },
  {
   "cell_type": "markdown",
   "metadata": {},
   "source": [
    "# MLP Classifier report and analysis"
   ]
  },
  {
   "cell_type": "code",
   "execution_count": 41,
   "metadata": {
    "pycharm": {
     "name": "#%%\n"
    }
   },
   "outputs": [
    {
     "name": "stdout",
     "output_type": "stream",
     "text": [
      "-----------------MLP Classifier Report---------------\n",
      "F1 score: 0.2535845676284849\n",
      "Accuracy score: 0.24783362218370883\n",
      "Confusion matrix for random 10 classes: \n",
      " [[0 0 0 0 0 0 0 0 0 0 0 0 0 0 0 0 0]\n",
      " [1 0 0 0 0 0 0 0 0 0 0 0 0 0 0 0 0]\n",
      " [0 0 0 0 0 0 0 0 0 0 0 0 0 0 0 0 0]\n",
      " [0 0 0 0 0 0 0 0 0 0 0 0 0 0 0 0 0]\n",
      " [0 0 0 0 0 0 0 0 0 0 0 0 0 0 0 0 0]\n",
      " [0 0 0 0 0 0 0 0 0 0 0 0 0 0 0 0 0]\n",
      " [0 0 0 0 0 0 0 0 0 0 0 0 0 0 0 0 0]\n",
      " [0 0 0 0 0 0 1 0 0 0 0 0 0 0 0 0 0]\n",
      " [0 0 0 0 0 0 0 0 1 0 0 0 0 0 0 0 0]\n",
      " [0 0 1 0 0 0 0 0 0 0 0 0 0 0 0 0 0]\n",
      " [0 0 0 0 0 1 0 0 0 0 0 0 0 0 0 0 0]\n",
      " [0 0 0 0 0 0 0 0 0 0 0 0 0 0 0 0 0]\n",
      " [0 0 0 0 0 0 0 0 1 0 0 0 0 0 0 0 0]\n",
      " [0 0 0 0 1 0 0 0 0 0 0 0 0 0 0 0 0]\n",
      " [0 0 0 1 0 0 0 0 0 0 0 0 0 0 0 0 0]\n",
      " [0 0 0 0 0 0 0 0 0 0 0 0 0 0 0 1 0]\n",
      " [0 0 0 0 0 0 0 0 0 0 0 1 0 0 0 0 0]]\n",
      "Plotting confusion matrix for random 10 classes\n"
     ]
    },
    {
     "data": {
      "image/png": "[encoded data removed]",
      "text/plain": [
       "<Figure size 432x288 with 2 Axes>"
      ]
     },
     "metadata": {
      "needs_background": "light"
     },
     "output_type": "display_data"
    },
    {
     "name": "stdout",
     "output_type": "stream",
     "text": [
      "              precision    recall  f1-score   support\n",
      "\n",
      "           0       0.29      0.29      0.29        14\n",
      "           1       0.00      0.00      0.00        10\n",
      "           2       0.38      0.38      0.38         8\n",
      "           3       0.00      0.00      0.00         3\n",
      "           4       0.29      0.12      0.17        17\n",
      "           5       0.33      0.25      0.29        12\n",
      "           6       0.36      0.50      0.42        10\n",
      "           7       0.27      0.29      0.28        14\n",
      "           8       0.25      0.25      0.25         8\n",
      "           9       0.29      0.15      0.20        13\n",
      "          10       0.08      0.10      0.09        10\n",
      "          11       0.42      0.29      0.34        17\n",
      "          12       0.36      0.31      0.33        13\n",
      "          13       0.25      0.30      0.27        10\n",
      "          14       0.25      0.38      0.30         8\n",
      "          15       0.71      0.31      0.43        16\n",
      "          16       0.42      0.50      0.45        10\n",
      "          17       0.33      0.29      0.31        14\n",
      "          18       0.25      0.17      0.20        12\n",
      "          19       0.20      0.16      0.18        19\n",
      "          20       0.27      0.40      0.32        10\n",
      "          21       0.19      0.22      0.21        18\n",
      "          22       0.56      0.64      0.60        14\n",
      "          23       0.00      0.00      0.00        12\n",
      "          24       0.29      0.18      0.22        22\n",
      "          25       0.32      0.35      0.33        20\n",
      "          26       0.00      0.00      0.00         1\n",
      "          27       0.07      0.11      0.09         9\n",
      "          28       0.19      0.27      0.22        11\n",
      "          29       0.50      0.73      0.59        11\n",
      "          30       0.43      0.75      0.55         4\n",
      "          31       0.17      0.08      0.11        13\n",
      "          32       0.11      0.14      0.12         7\n",
      "          33       0.25      0.23      0.24        13\n",
      "          34       0.08      0.09      0.08        11\n",
      "          35       0.27      0.23      0.25        13\n",
      "          36       0.29      0.20      0.24        10\n",
      "          37       0.18      0.17      0.17        12\n",
      "          38       0.22      0.25      0.24         8\n",
      "          39       0.27      0.27      0.27        11\n",
      "          40       0.29      0.31      0.30        13\n",
      "          41       0.00      0.00      0.00         9\n",
      "          42       0.20      0.18      0.19        11\n",
      "          43       0.22      0.22      0.22         9\n",
      "          44       0.60      0.23      0.33        13\n",
      "          45       0.20      0.19      0.19        16\n",
      "          46       0.36      0.27      0.31        15\n",
      "          47       0.57      0.33      0.42        12\n",
      "          48       0.00      0.00      0.00         4\n",
      "          49       0.00      0.00      0.00         7\n",
      "\n",
      "    accuracy                           0.25       577\n",
      "   macro avg       0.26      0.24      0.24       577\n",
      "weighted avg       0.28      0.25      0.25       577\n",
      "\n"
     ]
    }
   ],
   "source": [
    "# y_pred_mlp = clf.predict(X_val)\n",
    "# mlp_f1 = metrics.f1_score(y_val, y_pred_mlp, average= \"weighted\")\n",
    "# mlp_accuracy = metrics.accuracy_score(y_val, y_pred_mlp)\n",
    "# mlp_cm = metrics.confusion_matrix(y_val[:10], y_pred_mlp[:10])\n",
    "# print(\"-----------------MLP Classifier Report---------------\")\n",
    "# print(\"F1 score: {}\".format(mlp_f1))\n",
    "# print(\"Accuracy score: {}\".format(mlp_accuracy))\n",
    "# print(\"Confusion matrix for random 10 classes: \\n\", mlp_cm)\n",
    "# print('Plotting confusion matrix for random 10 classes')\n",
    "#\n",
    "# plt.figure()\n",
    "# plot_confusion_matrix(mlp_cm[:10], y_val[:10])\n",
    "# plt.show()\n",
    "#\n",
    "# print(metrics.classification_report(y_val, y_pred_mlp))\n"
   ]
  }
 ],
 "metadata": {
  "kernelspec": {
   "name": "python3",
   "language": "python",
   "display_name": "Python 3"
  },
  "language_info": {
   "codemirror_mode": {
    "name": "ipython",
    "version": 3
   },
   "file_extension": ".py",
   "mimetype": "text/x-python",
   "name": "python",
   "nbconvert_exporter": "python",
   "pygments_lexer": "ipython3",
   "version": "3.6.8"
  }
 },
 "nbformat": 4,
 "nbformat_minor": 1
}