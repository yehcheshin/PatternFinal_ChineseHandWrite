{
 "cells": [
  {
   "cell_type": "code",
   "execution_count": 1,
   "metadata": {
    "collapsed": true
   },
   "outputs": [],
   "source": [
    "\n",
    "import os\n",
    "import numpy as np\n",
    "from PIL import Image"
   ]
  },
  {
   "cell_type": "code",
   "execution_count": 2,
   "outputs": [],
   "source": [
    "root = './k_mean_data/'"
   ],
   "metadata": {
    "collapsed": false,
    "pycharm": {
     "name": "#%%\n"
    }
   }
  },
  {
   "cell_type": "markdown",
   "source": [
    "# Image Denoise"
   ],
   "metadata": {
    "collapsed": false
   }
  },
  {
   "cell_type": "code",
   "execution_count": 3,
   "outputs": [],
   "source": [
    "def get_bin_table(threshold=128):\n",
    "    table = []\n",
    "    for i in range(256):\n",
    "        if i < threshold:\n",
    "            table.append(0)\n",
    "        else:\n",
    "            table.append(1)\n",
    "    return table\n",
    "\n",
    "def remove_noise_pixel(img, noise_point_list):\n",
    "    for item in noise_point_list:\n",
    "        img.putpixel((item[0], item[1]), 1)\n",
    "\n",
    "def collect_noise_point(img):\n",
    "    noise_point_list = []\n",
    "    for x in range(img.width):\n",
    "        for y in range(img.height):\n",
    "            res_9 = sum_9_region_new(img, x, y)\n",
    "            if (0 < res_9 < 3) and img.getpixel((x, y)) == 0:\n",
    "                pos = (x, y)\n",
    "                noise_point_list.append(pos)\n",
    "    return noise_point_list\n",
    "\n",
    "def sum_9_region_new(img, x, y):\n",
    "    cur_pixel = img.getpixel((x, y))\n",
    "    width = img.width\n",
    "    height = img.height\n",
    "    if cur_pixel == 1:\n",
    "        return 0\n",
    "    if y < 3:\n",
    "        return 1\n",
    "    elif y > height - 3:\n",
    "        return 1\n",
    "    else:\n",
    "        if x < 3:\n",
    "            return 1\n",
    "        elif x == width - 1:\n",
    "            return 1\n",
    "        else:\n",
    "            sum = img.getpixel((x - 1, y - 1)) \\\n",
    "                  + img.getpixel((x - 1, y)) \\\n",
    "                  + img.getpixel((x - 1, y + 1)) \\\n",
    "                  + img.getpixel((x, y - 1)) \\\n",
    "                  + cur_pixel \\\n",
    "                  + img.getpixel((x, y + 1)) \\\n",
    "                  + img.getpixel((x + 1, y - 1)) \\\n",
    "                  + img.getpixel((x + 1, y)) \\\n",
    "                  + img.getpixel((x + 1, y + 1))\n",
    "            return 9 - sum"
   ],
   "metadata": {
    "collapsed": false,
    "pycharm": {
     "name": "#%%\n"
    }
   }
  },
  {
   "cell_type": "markdown",
   "source": [
    "# Get label"
   ],
   "metadata": {
    "collapsed": false,
    "pycharm": {
     "name": "#%% md\n"
    }
   }
  },
  {
   "cell_type": "code",
   "execution_count": 8,
   "outputs": [],
   "source": [
    "label_list = {}\n",
    "f = open('training data dic.txt', 'r', encoding=\"utf-8\")\n",
    "for idx, line in enumerate(f.readlines()):\n",
    "    if idx == 50:\n",
    "        break\n",
    "    label_list[line[0]] = idx"
   ],
   "metadata": {
    "collapsed": false,
    "pycharm": {
     "name": "#%%\n"
    }
   }
  },
  {
   "cell_type": "markdown",
   "source": [
    "# Load data\n"
   ],
   "metadata": {
    "collapsed": false
   }
  },
  {
   "cell_type": "code",
   "execution_count": 10,
   "outputs": [
    {
     "data": {
      "text/plain": "<PIL.Image.Image image mode=L size=64x64 at 0x1F829B7B340>",
      "image/png": "[encoded data removed]"
     },
     "execution_count": 10,
     "metadata": {},
     "output_type": "execute_result"
    }
   ],
   "source": [
    "is_denoise = False\n",
    "data = []\n",
    "files = []\n",
    "labels = []\n",
    "binary = None\n",
    "for idx, dir_ in enumerate(os.listdir(root)):\n",
    "    for _, file in enumerate(os.listdir(root + '/' + dir_)):\n",
    "        img_path = root + dir_ + '/' + file\n",
    "        img = Image.open(img_path)\n",
    "        img = img.resize((64, 64))\n",
    "        im = np.array(img).reshape(-1)\n",
    "        if is_denoise:\n",
    "            table = get_bin_table(np.mean(im))\n",
    "            binary = img.point(table, '1')\n",
    "            noise_point_list = collect_noise_point(binary)\n",
    "            remove_noise_pixel(binary, noise_point_list)\n",
    "            im = np.array(binary).reshape(-1)\n",
    "        data.append(im)\n",
    "        files.append(img_path)\n",
    "        labels.append(label_list[file[-5:-4]])\n",
    "train_img = np.array(data)\n",
    "img"
   ],
   "metadata": {
    "collapsed": false,
    "pycharm": {
     "name": "#%%\n"
    }
   }
  },
  {
   "cell_type": "code",
   "execution_count": 11,
   "outputs": [
    {
     "name": "stdout",
     "output_type": "stream",
     "text": [
      "(2881, 4096)\n"
     ]
    },
    {
     "data": {
      "text/plain": "2881"
     },
     "execution_count": 11,
     "metadata": {},
     "output_type": "execute_result"
    }
   ],
   "source": [
    "print(train_img.shape)\n",
    "len(labels)"
   ],
   "metadata": {
    "collapsed": false,
    "pycharm": {
     "name": "#%%\n"
    }
   }
  },
  {
   "cell_type": "markdown",
   "source": [
    "# K-nearest neighbors Classifier"
   ],
   "metadata": {
    "collapsed": false,
    "pycharm": {
     "name": "#%% md\n"
    }
   }
  },
  {
   "cell_type": "code",
   "execution_count": null,
   "outputs": [],
   "source": [
    "from sklearn.neighbors import KNeighborsClassifier\n"
   ],
   "metadata": {
    "collapsed": false,
    "pycharm": {
     "name": "#%%\n"
    }
   }
  }
 ],
 "metadata": {
  "kernelspec": {
   "display_name": "Python 3",
   "language": "python",
   "name": "python3"
  },
  "language_info": {
   "codemirror_mode": {
    "name": "ipython",
    "version": 2
   },
   "file_extension": ".py",
   "mimetype": "text/x-python",
   "name": "python",
   "nbconvert_exporter": "python",
   "pygments_lexer": "ipython2",
   "version": "2.7.6"
  }
 },
 "nbformat": 4,
 "nbformat_minor": 0
}